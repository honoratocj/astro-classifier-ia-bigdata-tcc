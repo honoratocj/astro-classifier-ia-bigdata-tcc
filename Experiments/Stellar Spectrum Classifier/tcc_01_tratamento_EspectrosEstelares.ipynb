{
 "cells": [
  {
   "cell_type": "markdown",
   "metadata": {
    "application/vnd.databricks.v1+cell": {
     "cellMetadata": {
      "byteLimit": 2048000,
      "rowLimit": 10000
     },
     "inputWidgets": {},
     "nuid": "232bc788-7252-4bd2-8cf1-e840997331db",
     "showTitle": false,
     "tableResultSettingsMap": {},
     "title": ""
    }
   },
   "source": [
    "## Autor: Claudio Honorato Junior\n",
    "\n",
    "Este trabalho faz parte da Monografia apresentada ao Departamento de Ciências de Computação do Instituto de Ciências Matemáticas e de Computação, Universidade de São Paulo - ICMC/USP, como parte dos requisitos para obtenção do título de Especialista em Inteligência Artificial e Big Data."
   ]
  },
  {
   "cell_type": "markdown",
   "metadata": {
    "application/vnd.databricks.v1+cell": {
     "cellMetadata": {
      "byteLimit": 2048000,
      "rowLimit": 10000
     },
     "inputWidgets": {},
     "nuid": "182a4d8d-c5be-4b3d-82cf-062563eae1fa",
     "showTitle": false,
     "tableResultSettingsMap": {},
     "title": ""
    }
   },
   "source": [
    "## Classificação de Objetos Celestes e Espectros Estelares com Perceptron \n",
    "\n",
    "Este trabalho propõe o uso de Redes Neurais Multicamadas (MLP) para a classificação de \n",
    "objetos astronômicos com base em dados espectroscópicos do Sloan Digital Sky Survey (SDSS). \n",
    "A pesquisa aborda três objetivos principais: (i) classificar objetos celestes em estrelas, galáxias \n",
    "e quasares; (ii) subclassificar estrelas conforme a classificação espectral de Harvard, com base \n",
    "na temperatura superficial. O modelo MLP foi comparado com algoritmos tradicionais como \n",
    "SVM, KNN, Regressão Logística, Random Forest e Naive-Bayes, entre outros, avaliando seu desempenho por \n",
    "meio de métricas como acurácia, precisão, recall e F1-score. A metodologia incluiu limpeza, \n",
    "normalização e seleção de features espectrais, além de técnicas de validação cruzada para \n",
    "garantir a robustez dos resultados. Os achados mostram que redes neurais profundas podem \n",
    "ser eficazes na análise de espectros astronômicos, oferecendo uma alternativa promissora \n",
    "para o tratamento de grandes volumes de dados no contexto da astrofísica moderna.\n",
    "\n",
    "#### Neste notebook: (ii) subclassificar estrelas conforme a classificação espectral de Harvard\n",
    "\n",
    "## Classification of Celestial Objects and Stellar Spectra with Perceptron\n",
    "\n",
    "This work proposes the use of Multilayer Neural Networks (MLP) for the classification of \n",
    "astronomical objects based on spectroscopic data from the Sloan Digital Sky Survey (SDSS). The \n",
    "research addresses three main objectives: (i) to classify celestial objects into stars, galaxies, \n",
    "and quasars; (ii) to subclassify stars according to the Harvard spectral classification, based on \n",
    "surface temperature. The MLP model was compared with traditional algorithms such as SVM, \n",
    "KNN, Logistic Regression, Random Forest, and Naive-Bayes, between others, evaluating its performance \n",
    "through metrics such as accuracy, precision, recall, and F1-score. The methodology included \n",
    "spectral cleaning, normalization, and feature selection, as well as cross-validation techniques \n",
    "to ensure the robustness of the results. The findings show that deep neural networks can be \n",
    "effective in the analysis of astronomical spectra, offering a promising alternative for the \n",
    "treatment of large volumes of data in the context of modern astrophysics.\n",
    "\n",
    "#### In this notebook: (ii) subclassify stars according to the Harvard spectral classification\n",
    "\n"
   ]
  },
  {
   "cell_type": "markdown",
   "metadata": {
    "application/vnd.databricks.v1+cell": {
     "cellMetadata": {
      "byteLimit": 2048000,
      "rowLimit": 10000
     },
     "inputWidgets": {},
     "nuid": "4e944a6a-bad3-4b32-9a64-9dcc35082d5d",
     "showTitle": false,
     "tableResultSettingsMap": {},
     "title": ""
    }
   },
   "source": [
    "### NOTEBOOK DE TRATAMENTO E PREPARAÇÃO DOS DADOS\n",
    "#### O objetivo deste notebook é preparar os dados para serem consumidos pelo segundo notebook chamado \"tcc_02_treinamento_EspectrosEstelares\".\n"
   ]
  },
  {
   "cell_type": "code",
   "execution_count": 0,
   "metadata": {
    "application/vnd.databricks.v1+cell": {
     "cellMetadata": {
      "byteLimit": 2048000,
      "rowLimit": 10000
     },
     "inputWidgets": {},
     "nuid": "fb79c187-104d-45d6-87c1-75f1bcc46045",
     "showTitle": false,
     "tableResultSettingsMap": {},
     "title": ""
    }
   },
   "outputs": [
    {
     "output_type": "stream",
     "name": "stdout",
     "output_type": "stream",
     "text": [
      "Collecting SMOTE\n  Downloading smote-0.1-py2.py3-none-any.whl.metadata (278 bytes)\nCollecting imblearn\n  Downloading imblearn-0.0-py2.py3-none-any.whl.metadata (355 bytes)\nRequirement already satisfied: numpy>=1.14.3 in /databricks/python3/lib/python3.12/site-packages (from SMOTE) (2.1.3)\nRequirement already satisfied: scikit-learn>=0.19.1 in /databricks/python3/lib/python3.12/site-packages (from SMOTE) (1.6.1)\nRequirement already satisfied: imbalanced-learn in /databricks/python3/lib/python3.12/site-packages (from imblearn) (0.13.0)\nRequirement already satisfied: scipy>=1.6.0 in /databricks/python3/lib/python3.12/site-packages (from scikit-learn>=0.19.1->SMOTE) (1.15.1)\nRequirement already satisfied: joblib>=1.2.0 in /databricks/python3/lib/python3.12/site-packages (from scikit-learn>=0.19.1->SMOTE) (1.4.2)\nRequirement already satisfied: threadpoolctl>=3.1.0 in /databricks/python3/lib/python3.12/site-packages (from scikit-learn>=0.19.1->SMOTE) (3.5.0)\nRequirement already satisfied: sklearn-compat<1,>=0.1 in /databricks/python3/lib/python3.12/site-packages (from imbalanced-learn->imblearn) (0.1.3)\nDownloading smote-0.1-py2.py3-none-any.whl (3.3 kB)\nDownloading imblearn-0.0-py2.py3-none-any.whl (1.9 kB)\nInstalling collected packages: SMOTE, imblearn\nSuccessfully installed SMOTE-0.1 imblearn-0.0\n\u001B[43mNote: you may need to restart the kernel using %restart_python or dbutils.library.restartPython() to use updated packages.\u001B[0m\n"
     ]
    }
   ],
   "source": [
    "pip install SMOTE imblearn"
   ]
  },
  {
   "cell_type": "code",
   "execution_count": 0,
   "metadata": {
    "application/vnd.databricks.v1+cell": {
     "cellMetadata": {
      "byteLimit": 2048000,
      "rowLimit": 10000
     },
     "inputWidgets": {},
     "nuid": "736c7d64-9c27-41a4-88ba-a76eea72c8be",
     "showTitle": false,
     "tableResultSettingsMap": {},
     "title": ""
    }
   },
   "outputs": [],
   "source": [
    "import pandas as pd\n",
    "import numpy as np\n",
    "import os\n",
    "import matplotlib.pyplot as plt\n",
    "import seaborn as sns\n",
    "from collections import Counter\n",
    "from sklearn.ensemble import RandomForestClassifier\n",
    "from pyspark.sql.functions import when, col, log1p, substring, trim, length\n",
    "from pyspark.sql import SparkSession\n",
    "from imblearn.over_sampling import SMOTE"
   ]
  },
  {
   "cell_type": "code",
   "execution_count": 0,
   "metadata": {
    "application/vnd.databricks.v1+cell": {
     "cellMetadata": {
      "byteLimit": 2048000,
      "rowLimit": 10000
     },
     "inputWidgets": {},
     "nuid": "60cf28fe-f9d8-4e0e-a3d5-5e7d8249e133",
     "showTitle": false,
     "tableResultSettingsMap": {},
     "title": ""
    }
   },
   "outputs": [
    {
     "output_type": "stream",
     "name": "stdout",
     "output_type": "stream",
     "text": [
      "Pastas criadas com sucesso em: dbfs:/FileStore/classification/astronomical_objects/\n\nEstrutura de pastas:\nBronze: dbfs:/FileStore/classification/astronomical_objects/bronze\nSilver: dbfs:/FileStore/classification/astronomical_objects/silver/balanceado\nArquivos esperados: espectros_estelares_Pt1.csv, espectros_estelares_Pt2.csv, espectros_estelares_tratado, espectros_estelares_balanceado\n"
     ]
    }
   ],
   "source": [
    "# Codigo para executar no DATABRICKS\n",
    "\n",
    "# Definir caminhos no DBFS\n",
    "base_path = \"dbfs:/FileStore/classification/astronomical_objects/\"\n",
    "pasta_bronze = f\"{base_path}bronze\"\n",
    "pasta_silver = f\"{base_path}silver/balanceado\"\n",
    "arquivo_pt1 = \"espectros_estelares_Pt1.csv\"\n",
    "arquivo_pt2 = \"espectros_estelares_Pt2.csv\"\n",
    "arquivo_tratado = \"espectros_estelares_tratado\"\n",
    "arquivo_balanceado = \"espectros_estelares_balanceado\"\n",
    "\n",
    "# Criar pastas usando dbutils\n",
    "try:\n",
    "    dbutils.fs.mkdirs(pasta_bronze)\n",
    "    dbutils.fs.mkdirs(pasta_silver)\n",
    "    print(f\"Pastas criadas com sucesso em: {base_path}\")\n",
    "except Exception as e:\n",
    "    print(f\"Erro ao criar pastas: {e}\")\n",
    "\n",
    "# Verificar estrutura criada\n",
    "print(\"\\nEstrutura de pastas:\")\n",
    "print(f\"Bronze: {pasta_bronze}\")\n",
    "print(f\"Silver: {pasta_silver}\")\n",
    "print(f\"Arquivos esperados: {arquivo_pt1}, {arquivo_pt2}, {arquivo_tratado}, {arquivo_balanceado}\")\n"
   ]
  },
  {
   "cell_type": "code",
   "execution_count": 0,
   "metadata": {
    "application/vnd.databricks.v1+cell": {
     "cellMetadata": {
      "byteLimit": 2048000,
      "rowLimit": 10000
     },
     "inputWidgets": {},
     "nuid": "c906ab80-8d8c-40fb-9e0f-ba396b681688",
     "showTitle": false,
     "tableResultSettingsMap": {},
     "title": ""
    },
    "id": "8kPDOuHx014m"
   },
   "outputs": [],
   "source": [
    " # Criar SparkSession\n",
    "spark = SparkSession.builder \\\n",
    "     .appName(\"TCC\") \\\n",
    "     .getOrCreate()\n",
    "\n",
    "# Lendo arquivos bruto\n",
    "df_pt1 = spark.read.csv(\n",
    "    pasta_bronze + \"/\" + arquivo_pt1,\n",
    "    header=True,\n",
    "    inferSchema=True,\n",
    ")\n",
    "\n",
    "df_pt2 = spark.read.csv(\n",
    "    pasta_bronze + \"/\" + arquivo_pt2,\n",
    "    header=True,\n",
    "    inferSchema=True,\n",
    ")\n",
    "\n",
    "# Unindo os 2 arquivos em 1 dataFrame consolidado\n",
    "df_total = df_pt1.union(df_pt2) # colunas e ordem iguais"
   ]
  },
  {
   "cell_type": "code",
   "execution_count": 0,
   "metadata": {
    "application/vnd.databricks.v1+cell": {
     "cellMetadata": {
      "byteLimit": 2048000,
      "rowLimit": 10000
     },
     "inputWidgets": {},
     "nuid": "4eff9695-cf52-456b-a59f-7ef1c3b92578",
     "showTitle": false,
     "tableResultSettingsMap": {},
     "title": ""
    },
    "colab": {
     "base_uri": "https://localhost:8080/"
    },
    "id": "Ak5XUQwli3kN",
    "outputId": "f5a75f8d-abd6-42ef-e83a-c359d3b493cc"
   },
   "outputs": [
    {
     "output_type": "stream",
     "name": "stdout",
     "output_type": "stream",
     "text": [
      "500000\n500000\n1000000\n"
     ]
    }
   ],
   "source": [
    "print(df_pt1.count())\n",
    "print(df_pt2.count())\n",
    "print(df_total.count())"
   ]
  },
  {
   "cell_type": "code",
   "execution_count": 0,
   "metadata": {
    "application/vnd.databricks.v1+cell": {
     "cellMetadata": {
      "byteLimit": 2048000,
      "rowLimit": 10000
     },
     "inputWidgets": {},
     "nuid": "a20f6b99-8d17-41b4-b0e9-c60ed559e994",
     "showTitle": false,
     "tableResultSettingsMap": {
      "0": {
       "dataGridStateBlob": "{\"version\":1,\"tableState\":{\"columnPinning\":{\"left\":[\"#row_number#\"],\"right\":[]},\"columnSizing\":{},\"columnVisibility\":{}},\"settings\":{\"columns\":{}},\"syncTimestamp\":1752505311145}",
       "filterBlob": null,
       "queryPlanFiltersBlob": null,
       "tableResultIndex": 0
      }
     },
     "title": ""
    }
   },
   "outputs": [
    {
     "output_type": "display_data",
     "data": {
      "text/html": [
       "<style scoped>\n",
       "  .table-result-container {\n",
       "    max-height: 300px;\n",
       "    overflow: auto;\n",
       "  }\n",
       "  table, th, td {\n",
       "    border: 1px solid black;\n",
       "    border-collapse: collapse;\n",
       "  }\n",
       "  th, td {\n",
       "    padding: 5px;\n",
       "  }\n",
       "  th {\n",
       "    text-align: left;\n",
       "  }\n",
       "</style><div class='table-result-container'><table class='table-result'><thead style='background-color: white'><tr><th>specObjID_p</th><th>skyVersion</th><th>run</th><th>rerun</th><th>camcol</th><th>field</th><th>obj</th><th>psfMag_u</th><th>psfMag_g</th><th>psfMag_r</th><th>psfMag_i</th><th>psfMag_z</th><th>fiberMag_u</th><th>fiberMag_g</th><th>fiberMag_r</th><th>fiberMag_i</th><th>fiberMag_z</th><th>petroMag_u</th><th>petroMag_g</th><th>petroMag_r</th><th>petroMag_i</th><th>petroMag_z</th><th>petroFlux_u</th><th>petroFlux_g</th><th>petroFlux_r</th><th>petroFlux_i</th><th>petroFlux_z</th><th>z</th><th>subclass</th><th>class</th><th>specObjID_g</th><th>spectrotype</th><th>redshift</th><th>oii_3726_flux</th><th>oiii_5007_flux</th><th>h_alpha_flux</th><th>oii_3726_chisq</th><th>oiii_5007_chisq</th><th>h_alpha_chisq</th><th>oii_3726_inst_res</th><th>oiii_5007_inst_res</th><th>h_alpha_inst_res</th></tr></thead><tbody><tr><td>444747260668962816</td><td>2</td><td>4263</td><td>301</td><td>2</td><td>219</td><td>107</td><td>19.77458</td><td>18.71798</td><td>18.26378</td><td>18.12939</td><td>18.06005</td><td>20.03711</td><td>19.02617</td><td>18.60104</td><td>18.47951</td><td>18.3892</td><td>19.82929</td><td>18.8066</td><td>18.36399</td><td>18.2177</td><td>18.1572</td><td>11.70096</td><td>30.01618</td><td>45.12348</td><td>51.63157</td><td>54.58067</td><td>-4.929916E-4</td><td>G0</td><td>STAR</td><td>444747260668962816</td><td>STAR</td><td>-4.929916E-4</td><td>0.0</td><td>-1.676839</td><td>-2.866498</td><td>0.0</td><td>0.4853574</td><td>0.4917528</td><td>0.0</td><td>65.35149</td><td>60.4991</td></tr><tr><td>448161794129684480</td><td>2</td><td>4263</td><td>301</td><td>2</td><td>245</td><td>586</td><td>23.48041</td><td>22.50569</td><td>21.81294</td><td>22.07727</td><td>21.15533</td><td>22.81447</td><td>21.81223</td><td>21.30359</td><td>21.12966</td><td>20.74878</td><td>24.74747</td><td>20.67699</td><td>19.92125</td><td>19.87232</td><td>19.30485</td><td>-0.02913845</td><td>5.358974</td><td>10.75091</td><td>11.245</td><td>18.94088</td><td>-0.00401863</td><td>CarbonWD</td><td>STAR</td><td>448161794129684480</td><td>STAR</td><td>-0.00401863</td><td>0.0</td><td>-1.842582</td><td>-3.370186</td><td>0.0</td><td>0.6317857</td><td>1.244059</td><td>0.0</td><td>63.61694</td><td>59.97521</td></tr><tr><td>444888822791038976</td><td>2</td><td>4263</td><td>301</td><td>5</td><td>217</td><td>2</td><td>17.83314</td><td>16.58527</td><td>16.17703</td><td>15.98609</td><td>15.95485</td><td>18.12552</td><td>16.88404</td><td>16.45157</td><td>16.28804</td><td>16.24422</td><td>17.87065</td><td>16.63887</td><td>16.19801</td><td>16.04382</td><td>16.00212</td><td>71.07839</td><td>221.0307</td><td>331.7401</td><td>382.3607</td><td>397.3283</td><td>-1.019187E-4</td><td>F9</td><td>STAR</td><td>444888822791038976</td><td>STAR</td><td>-1.019187E-4</td><td>0.0</td><td>-8.628825</td><td>-44.47528</td><td>0.0</td><td>0.8065449</td><td>1.253405</td><td>0.0</td><td>56.45619</td><td>60.19514</td></tr><tr><td>451614260624123904</td><td>2</td><td>4263</td><td>301</td><td>5</td><td>284</td><td>232</td><td>22.21452</td><td>19.30329</td><td>17.7809</td><td>17.08503</td><td>16.67532</td><td>21.71563</td><td>19.12191</td><td>17.7011</td><td>17.06526</td><td>16.68988</td><td>22.36058</td><td>19.34396</td><td>17.71402</td><td>17.09931</td><td>16.58071</td><td>1.119781</td><td>18.29808</td><td>82.1089</td><td>144.6359</td><td>233.1918</td><td>1.077616E-4</td><td>K7</td><td>STAR</td><td>451614260624123904</td><td>STAR</td><td>1.077616E-4</td><td>0.0</td><td>6.408554</td><td>37.54849</td><td>0.0</td><td>1.686452</td><td>1.401969</td><td>0.0</td><td>57.89541</td><td>61.11086</td></tr><tr><td>447096092568348672</td><td>2</td><td>4263</td><td>301</td><td>6</td><td>235</td><td>44</td><td>17.16692</td><td>16.07712</td><td>15.94528</td><td>15.91447</td><td>15.92837</td><td>17.45454</td><td>16.37385</td><td>16.23666</td><td>16.21811</td><td>16.22274</td><td>17.1919</td><td>16.12073</td><td>15.99346</td><td>15.97863</td><td>16.0076</td><td>132.8126</td><td>356.2122</td><td>400.5115</td><td>406.021</td><td>395.3304</td><td>-5.267207E-4</td><td>A0</td><td>STAR</td><td>447096092568348672</td><td>STAR</td><td>-5.267207E-4</td><td>0.0</td><td>44.04014</td><td>-24.01361</td><td>0.0</td><td>0.6089046</td><td>3.303255</td><td>0.0</td><td>62.2846</td><td>62.56055</td></tr></tbody></table></div>"
      ]
     },
     "metadata": {
      "application/vnd.databricks.v1+output": {
       "addedWidgets": {},
       "aggData": [],
       "aggError": "",
       "aggOverflow": false,
       "aggSchema": [],
       "aggSeriesLimitReached": false,
       "aggType": "",
       "arguments": {},
       "columnCustomDisplayInfos": {},
       "data": [
        [
         444747260668962816,
         2,
         4263,
         301,
         2,
         219,
         107,
         19.77458,
         18.71798,
         18.26378,
         18.12939,
         18.06005,
         20.03711,
         19.02617,
         18.60104,
         18.47951,
         18.3892,
         19.82929,
         18.8066,
         18.36399,
         18.2177,
         18.1572,
         11.70096,
         30.01618,
         45.12348,
         51.63157,
         54.58067,
         -4.929916E-4,
         "G0",
         "STAR",
         444747260668962816,
         "STAR",
         -4.929916E-4,
         0.0,
         -1.676839,
         -2.866498,
         0.0,
         0.4853574,
         0.4917528,
         0.0,
         65.35149,
         60.4991
        ],
        [
         448161794129684480,
         2,
         4263,
         301,
         2,
         245,
         586,
         23.48041,
         22.50569,
         21.81294,
         22.07727,
         21.15533,
         22.81447,
         21.81223,
         21.30359,
         21.12966,
         20.74878,
         24.74747,
         20.67699,
         19.92125,
         19.87232,
         19.30485,
         -0.02913845,
         5.358974,
         10.75091,
         11.245,
         18.94088,
         -0.00401863,
         "CarbonWD",
         "STAR",
         448161794129684480,
         "STAR",
         -0.00401863,
         0.0,
         -1.842582,
         -3.370186,
         0.0,
         0.6317857,
         1.244059,
         0.0,
         63.61694,
         59.97521
        ],
        [
         444888822791038976,
         2,
         4263,
         301,
         5,
         217,
         2,
         17.83314,
         16.58527,
         16.17703,
         15.98609,
         15.95485,
         18.12552,
         16.88404,
         16.45157,
         16.28804,
         16.24422,
         17.87065,
         16.63887,
         16.19801,
         16.04382,
         16.00212,
         71.07839,
         221.0307,
         331.7401,
         382.3607,
         397.3283,
         -1.019187E-4,
         "F9",
         "STAR",
         444888822791038976,
         "STAR",
         -1.019187E-4,
         0.0,
         -8.628825,
         -44.47528,
         0.0,
         0.8065449,
         1.253405,
         0.0,
         56.45619,
         60.19514
        ],
        [
         451614260624123904,
         2,
         4263,
         301,
         5,
         284,
         232,
         22.21452,
         19.30329,
         17.7809,
         17.08503,
         16.67532,
         21.71563,
         19.12191,
         17.7011,
         17.06526,
         16.68988,
         22.36058,
         19.34396,
         17.71402,
         17.09931,
         16.58071,
         1.119781,
         18.29808,
         82.1089,
         144.6359,
         233.1918,
         1.077616E-4,
         "K7",
         "STAR",
         451614260624123904,
         "STAR",
         1.077616E-4,
         0.0,
         6.408554,
         37.54849,
         0.0,
         1.686452,
         1.401969,
         0.0,
         57.89541,
         61.11086
        ],
        [
         447096092568348672,
         2,
         4263,
         301,
         6,
         235,
         44,
         17.16692,
         16.07712,
         15.94528,
         15.91447,
         15.92837,
         17.45454,
         16.37385,
         16.23666,
         16.21811,
         16.22274,
         17.1919,
         16.12073,
         15.99346,
         15.97863,
         16.0076,
         132.8126,
         356.2122,
         400.5115,
         406.021,
         395.3304,
         -5.267207E-4,
         "A0",
         "STAR",
         447096092568348672,
         "STAR",
         -5.267207E-4,
         0.0,
         44.04014,
         -24.01361,
         0.0,
         0.6089046,
         3.303255,
         0.0,
         62.2846,
         62.56055
        ]
       ],
       "datasetInfos": [],
       "dbfsResultPath": null,
       "isJsonSchema": true,
       "metadata": {},
       "overflow": false,
       "plotOptions": {
        "customPlotOptions": {},
        "displayType": "table",
        "pivotAggregation": null,
        "pivotColumns": null,
        "xColumns": null,
        "yColumns": null
       },
       "removedWidgets": [],
       "schema": [
        {
         "metadata": "{}",
         "name": "specObjID_p",
         "type": "\"long\""
        },
        {
         "metadata": "{}",
         "name": "skyVersion",
         "type": "\"integer\""
        },
        {
         "metadata": "{}",
         "name": "run",
         "type": "\"integer\""
        },
        {
         "metadata": "{}",
         "name": "rerun",
         "type": "\"integer\""
        },
        {
         "metadata": "{}",
         "name": "camcol",
         "type": "\"integer\""
        },
        {
         "metadata": "{}",
         "name": "field",
         "type": "\"integer\""
        },
        {
         "metadata": "{}",
         "name": "obj",
         "type": "\"integer\""
        },
        {
         "metadata": "{}",
         "name": "psfMag_u",
         "type": "\"double\""
        },
        {
         "metadata": "{}",
         "name": "psfMag_g",
         "type": "\"double\""
        },
        {
         "metadata": "{}",
         "name": "psfMag_r",
         "type": "\"double\""
        },
        {
         "metadata": "{}",
         "name": "psfMag_i",
         "type": "\"double\""
        },
        {
         "metadata": "{}",
         "name": "psfMag_z",
         "type": "\"double\""
        },
        {
         "metadata": "{}",
         "name": "fiberMag_u",
         "type": "\"double\""
        },
        {
         "metadata": "{}",
         "name": "fiberMag_g",
         "type": "\"double\""
        },
        {
         "metadata": "{}",
         "name": "fiberMag_r",
         "type": "\"double\""
        },
        {
         "metadata": "{}",
         "name": "fiberMag_i",
         "type": "\"double\""
        },
        {
         "metadata": "{}",
         "name": "fiberMag_z",
         "type": "\"double\""
        },
        {
         "metadata": "{}",
         "name": "petroMag_u",
         "type": "\"double\""
        },
        {
         "metadata": "{}",
         "name": "petroMag_g",
         "type": "\"double\""
        },
        {
         "metadata": "{}",
         "name": "petroMag_r",
         "type": "\"double\""
        },
        {
         "metadata": "{}",
         "name": "petroMag_i",
         "type": "\"double\""
        },
        {
         "metadata": "{}",
         "name": "petroMag_z",
         "type": "\"double\""
        },
        {
         "metadata": "{}",
         "name": "petroFlux_u",
         "type": "\"double\""
        },
        {
         "metadata": "{}",
         "name": "petroFlux_g",
         "type": "\"double\""
        },
        {
         "metadata": "{}",
         "name": "petroFlux_r",
         "type": "\"double\""
        },
        {
         "metadata": "{}",
         "name": "petroFlux_i",
         "type": "\"double\""
        },
        {
         "metadata": "{}",
         "name": "petroFlux_z",
         "type": "\"double\""
        },
        {
         "metadata": "{}",
         "name": "z",
         "type": "\"double\""
        },
        {
         "metadata": "{}",
         "name": "subclass",
         "type": "\"string\""
        },
        {
         "metadata": "{}",
         "name": "class",
         "type": "\"string\""
        },
        {
         "metadata": "{}",
         "name": "specObjID_g",
         "type": "\"long\""
        },
        {
         "metadata": "{}",
         "name": "spectrotype",
         "type": "\"string\""
        },
        {
         "metadata": "{}",
         "name": "redshift",
         "type": "\"double\""
        },
        {
         "metadata": "{}",
         "name": "oii_3726_flux",
         "type": "\"double\""
        },
        {
         "metadata": "{}",
         "name": "oiii_5007_flux",
         "type": "\"double\""
        },
        {
         "metadata": "{}",
         "name": "h_alpha_flux",
         "type": "\"double\""
        },
        {
         "metadata": "{}",
         "name": "oii_3726_chisq",
         "type": "\"double\""
        },
        {
         "metadata": "{}",
         "name": "oiii_5007_chisq",
         "type": "\"double\""
        },
        {
         "metadata": "{}",
         "name": "h_alpha_chisq",
         "type": "\"double\""
        },
        {
         "metadata": "{}",
         "name": "oii_3726_inst_res",
         "type": "\"double\""
        },
        {
         "metadata": "{}",
         "name": "oiii_5007_inst_res",
         "type": "\"double\""
        },
        {
         "metadata": "{}",
         "name": "h_alpha_inst_res",
         "type": "\"double\""
        }
       ],
       "type": "table"
      }
     },
     "output_type": "display_data"
    }
   ],
   "source": [
    "# Salvando em dataframe temporario\n",
    "df_total.createOrReplaceTempView(\"temp_objects_all\")\n",
    "\n",
    "# Selecionando apenas as colunas necessárias\n",
    "# Nota: As colunas que foram eliminadas são os metadados dos espectros\n",
    "df_stars = spark.sql(\n",
    "\n",
    "    \"\"\"\n",
    "    SELECT *\n",
    "    FROM temp_objects_all \n",
    "    WHERE class = 'STAR'\n",
    "    \"\"\"\n",
    ")\n",
    "\n",
    "display(df_stars.limit(5))"
   ]
  },
  {
   "cell_type": "code",
   "execution_count": 0,
   "metadata": {
    "application/vnd.databricks.v1+cell": {
     "cellMetadata": {
      "byteLimit": 2048000,
      "rowLimit": 10000
     },
     "inputWidgets": {},
     "nuid": "77834075-2783-4639-9456-185161266f8d",
     "showTitle": false,
     "tableResultSettingsMap": {
      "0": {
       "dataGridStateBlob": "{\"version\":1,\"tableState\":{\"columnPinning\":{\"left\":[\"#row_number#\"],\"right\":[]},\"columnSizing\":{\"subclass\":90,\"count\":90},\"columnVisibility\":{}},\"settings\":{\"columns\":{}},\"syncTimestamp\":1752615558483}",
       "filterBlob": null,
       "queryPlanFiltersBlob": null,
       "tableResultIndex": 0
      }
     },
     "title": ""
    }
   },
   "outputs": [
    {
     "output_type": "display_data",
     "data": {
      "text/html": [
       "<style scoped>\n",
       "  .table-result-container {\n",
       "    max-height: 300px;\n",
       "    overflow: auto;\n",
       "  }\n",
       "  table, th, td {\n",
       "    border: 1px solid black;\n",
       "    border-collapse: collapse;\n",
       "  }\n",
       "  th, td {\n",
       "    padding: 5px;\n",
       "  }\n",
       "  th {\n",
       "    text-align: left;\n",
       "  }\n",
       "</style><div class='table-result-container'><table class='table-result'><thead style='background-color: white'><tr><th>subclass</th><th>count</th></tr></thead><tbody><tr><td>F</td><td>122711</td></tr><tr><td>K</td><td>60150</td></tr><tr><td>M</td><td>58517</td></tr><tr><td>A</td><td>33164</td></tr><tr><td>G</td><td>19401</td></tr><tr><td>W</td><td>7583</td></tr><tr><td>L</td><td>1409</td></tr><tr><td>C</td><td>1287</td></tr><tr><td>T</td><td>1131</td></tr><tr><td>O</td><td>967</td></tr><tr><td>B</td><td>705</td></tr></tbody></table></div>"
      ]
     },
     "metadata": {
      "application/vnd.databricks.v1+output": {
       "addedWidgets": {},
       "aggData": [],
       "aggError": "",
       "aggOverflow": false,
       "aggSchema": [],
       "aggSeriesLimitReached": false,
       "aggType": "",
       "arguments": {},
       "columnCustomDisplayInfos": {},
       "data": [
        [
         "F",
         122711
        ],
        [
         "K",
         60150
        ],
        [
         "M",
         58517
        ],
        [
         "A",
         33164
        ],
        [
         "G",
         19401
        ],
        [
         "W",
         7583
        ],
        [
         "L",
         1409
        ],
        [
         "C",
         1287
        ],
        [
         "T",
         1131
        ],
        [
         "O",
         967
        ],
        [
         "B",
         705
        ]
       ],
       "datasetInfos": [],
       "dbfsResultPath": null,
       "isJsonSchema": true,
       "metadata": {},
       "overflow": false,
       "plotOptions": {
        "customPlotOptions": {},
        "displayType": "table",
        "pivotAggregation": null,
        "pivotColumns": null,
        "xColumns": null,
        "yColumns": null
       },
       "removedWidgets": [],
       "schema": [
        {
         "metadata": "{}",
         "name": "subclass",
         "type": "\"string\""
        },
        {
         "metadata": "{}",
         "name": "count",
         "type": "\"long\""
        }
       ],
       "type": "table"
      }
     },
     "output_type": "display_data"
    }
   ],
   "source": [
    "df_stars = df_stars.withColumn(\n",
    "    \"subclass\",\n",
    "    when(\n",
    "        (length(trim(col(\"subclass\"))) <= 4), # Agrupando as classes que tem 4 letras ou menos\n",
    "        substring(trim(col(\"subclass\")), 1, 1),\n",
    "    ).otherwise(trim(col(\"subclass\")))\n",
    ")\\\n",
    "    .filter(col(\"subclass\").rlike(\"^[A-Z]$\")) ## Filtra apenas com uma letra\n",
    "\n",
    "display(df_stars.groupBy(\"subclass\").count().orderBy(\"count\", ascending=False))"
   ]
  },
  {
   "cell_type": "code",
   "execution_count": 0,
   "metadata": {
    "application/vnd.databricks.v1+cell": {
     "cellMetadata": {
      "byteLimit": 2048000,
      "rowLimit": 10000
     },
     "inputWidgets": {},
     "nuid": "2fdea2cd-9034-4ed2-9dcc-080276cfd056",
     "showTitle": false,
     "tableResultSettingsMap": {},
     "title": ""
    },
    "id": "C06Qtuq2uLsn"
   },
   "outputs": [],
   "source": [
    "# Astrônomos frequentemente usam índices de cor como u-g, g-r, r-i, i-z, que representam a diferença de magnitude entre bandas. \n",
    "# Essas diferenças estão associadas à temperatura e composição da estrela.\n",
    "\n",
    "# 1. Diferenças de Magnitudes (Cores)\n",
    "# Aplicando regra de \"índices de cor\"\n",
    "df = df_stars.withColumn(\"u_g\", col(\"psfMag_u\") - col(\"psfMag_g\")) \\\n",
    "             .withColumn(\"g_r\", col(\"psfMag_g\") - col(\"psfMag_r\")) \\\n",
    "             .withColumn(\"r_i\", col(\"psfMag_r\") - col(\"psfMag_i\")) \\\n",
    "             .withColumn(\"i_z\", col(\"psfMag_i\") - col(\"psfMag_z\"))\n",
    "\n",
    "# 2. Razões entre fluxos\n",
    "df = df.withColumn(\"flux_oiii_halpha\", col(\"oiii_5007_flux\") / (col(\"h_alpha_flux\") + 1e-6)) \\\n",
    "       .withColumn(\"flux_oii_oiii\", col(\"oii_3726_flux\") / (col(\"oiii_5007_flux\") + 1e-6))\n",
    "\n",
    "# 3. Log de fluxos\n",
    "df = df.withColumn(\"log_flux_oiii\", log1p(col(\"oiii_5007_flux\"))) \\\n",
    "       .withColumn(\"log_flux_halpha\", log1p(col(\"h_alpha_flux\")))\n",
    "\n",
    "# 4. Desvios entre magnitudes\n",
    "df = df.withColumn(\"delta_psf_fiber_r\", col(\"psfMag_r\") - col(\"fiberMag_r\")) \\\n",
    "       .withColumn(\"delta_psf_petro_r\", col(\"psfMag_r\") - col(\"petroMag_r\"))"
   ]
  },
  {
   "cell_type": "code",
   "execution_count": 0,
   "metadata": {
    "application/vnd.databricks.v1+cell": {
     "cellMetadata": {
      "byteLimit": 2048000,
      "rowLimit": 10000
     },
     "inputWidgets": {},
     "nuid": "245924d3-a083-4342-bad1-7bcdccc6e619",
     "showTitle": false,
     "tableResultSettingsMap": {},
     "title": ""
    }
   },
   "outputs": [
    {
     "output_type": "execute_result",
     "data": {
      "text/plain": [
       "307025"
      ]
     },
     "execution_count": 9,
     "metadata": {},
     "output_type": "execute_result"
    }
   ],
   "source": [
    "df.count()"
   ]
  },
  {
   "cell_type": "code",
   "execution_count": 0,
   "metadata": {
    "application/vnd.databricks.v1+cell": {
     "cellMetadata": {
      "byteLimit": 2048000,
      "rowLimit": 10000
     },
     "inputWidgets": {},
     "nuid": "c48d906c-5e8b-4a23-baf2-d54ecacd3bf5",
     "showTitle": false,
     "tableResultSettingsMap": {},
     "title": ""
    },
    "colab": {
     "base_uri": "https://localhost:8080/",
     "height": 300
    },
    "id": "t5lAT1eECsVe",
    "outputId": "f156ad6d-2264-4d1b-ee70-cbd46f3fc6b7"
   },
   "outputs": [
    {
     "output_type": "execute_result",
     "data": {
      "text/html": [
       "<div>\n",
       "<style scoped>\n",
       "    .dataframe tbody tr th:only-of-type {\n",
       "        vertical-align: middle;\n",
       "    }\n",
       "\n",
       "    .dataframe tbody tr th {\n",
       "        vertical-align: top;\n",
       "    }\n",
       "\n",
       "    .dataframe thead th {\n",
       "        text-align: right;\n",
       "    }\n",
       "</style>\n",
       "<table border=\"1\" class=\"dataframe\">\n",
       "  <thead>\n",
       "    <tr style=\"text-align: right;\">\n",
       "      <th></th>\n",
       "      <th>specObjID_p</th>\n",
       "      <th>skyVersion</th>\n",
       "      <th>run</th>\n",
       "      <th>rerun</th>\n",
       "      <th>camcol</th>\n",
       "      <th>field</th>\n",
       "      <th>obj</th>\n",
       "      <th>psfMag_u</th>\n",
       "      <th>psfMag_g</th>\n",
       "      <th>psfMag_r</th>\n",
       "      <th>psfMag_i</th>\n",
       "      <th>psfMag_z</th>\n",
       "      <th>fiberMag_u</th>\n",
       "      <th>fiberMag_g</th>\n",
       "      <th>fiberMag_r</th>\n",
       "      <th>fiberMag_i</th>\n",
       "      <th>fiberMag_z</th>\n",
       "      <th>petroMag_u</th>\n",
       "      <th>petroMag_g</th>\n",
       "      <th>petroMag_r</th>\n",
       "      <th>petroMag_i</th>\n",
       "      <th>petroMag_z</th>\n",
       "      <th>petroFlux_u</th>\n",
       "      <th>petroFlux_g</th>\n",
       "      <th>petroFlux_r</th>\n",
       "      <th>petroFlux_i</th>\n",
       "      <th>petroFlux_z</th>\n",
       "      <th>z</th>\n",
       "      <th>specObjID_g</th>\n",
       "      <th>redshift</th>\n",
       "      <th>oii_3726_flux</th>\n",
       "      <th>oiii_5007_flux</th>\n",
       "      <th>h_alpha_flux</th>\n",
       "      <th>oii_3726_chisq</th>\n",
       "      <th>oiii_5007_chisq</th>\n",
       "      <th>h_alpha_chisq</th>\n",
       "      <th>oii_3726_inst_res</th>\n",
       "      <th>oiii_5007_inst_res</th>\n",
       "      <th>h_alpha_inst_res</th>\n",
       "      <th>u_g</th>\n",
       "      <th>g_r</th>\n",
       "      <th>r_i</th>\n",
       "      <th>i_z</th>\n",
       "      <th>flux_oiii_halpha</th>\n",
       "      <th>flux_oii_oiii</th>\n",
       "      <th>log_flux_oiii</th>\n",
       "      <th>log_flux_halpha</th>\n",
       "      <th>delta_psf_fiber_r</th>\n",
       "      <th>delta_psf_petro_r</th>\n",
       "    </tr>\n",
       "  </thead>\n",
       "  <tbody>\n",
       "    <tr>\n",
       "      <th>count</th>\n",
       "      <td>3.070250e+05</td>\n",
       "      <td>307025.0</td>\n",
       "      <td>307025.000000</td>\n",
       "      <td>307025.0</td>\n",
       "      <td>307025.000000</td>\n",
       "      <td>307025.000000</td>\n",
       "      <td>307025.000000</td>\n",
       "      <td>307025.000000</td>\n",
       "      <td>307025.000000</td>\n",
       "      <td>307025.000000</td>\n",
       "      <td>307025.000000</td>\n",
       "      <td>307025.000000</td>\n",
       "      <td>307025.000000</td>\n",
       "      <td>307025.000000</td>\n",
       "      <td>307025.000000</td>\n",
       "      <td>307025.000000</td>\n",
       "      <td>307025.000000</td>\n",
       "      <td>307025.000000</td>\n",
       "      <td>307025.000000</td>\n",
       "      <td>307025.000000</td>\n",
       "      <td>307025.000000</td>\n",
       "      <td>307025.000000</td>\n",
       "      <td>307025.000000</td>\n",
       "      <td>307025.000000</td>\n",
       "      <td>307025.000000</td>\n",
       "      <td>307025.000000</td>\n",
       "      <td>307025.000000</td>\n",
       "      <td>307025.000000</td>\n",
       "      <td>3.070250e+05</td>\n",
       "      <td>307025.000000</td>\n",
       "      <td>307025.000000</td>\n",
       "      <td>3.070250e+05</td>\n",
       "      <td>3.070250e+05</td>\n",
       "      <td>307025.0</td>\n",
       "      <td>307025.000000</td>\n",
       "      <td>307025.000000</td>\n",
       "      <td>307025.000000</td>\n",
       "      <td>307025.000000</td>\n",
       "      <td>307025.000000</td>\n",
       "      <td>307025.000000</td>\n",
       "      <td>307025.000000</td>\n",
       "      <td>307025.000000</td>\n",
       "      <td>307025.000000</td>\n",
       "      <td>3.070250e+05</td>\n",
       "      <td>3.070250e+05</td>\n",
       "      <td>229668.000000</td>\n",
       "      <td>164231.000000</td>\n",
       "      <td>307025.000000</td>\n",
       "      <td>307025.000000</td>\n",
       "    </tr>\n",
       "    <tr>\n",
       "      <th>mean</th>\n",
       "      <td>2.136661e+18</td>\n",
       "      <td>2.0</td>\n",
       "      <td>4068.563293</td>\n",
       "      <td>301.0</td>\n",
       "      <td>3.443049</td>\n",
       "      <td>189.606084</td>\n",
       "      <td>308.151473</td>\n",
       "      <td>19.192407</td>\n",
       "      <td>17.675456</td>\n",
       "      <td>17.160600</td>\n",
       "      <td>16.526643</td>\n",
       "      <td>16.284819</td>\n",
       "      <td>19.402781</td>\n",
       "      <td>17.956675</td>\n",
       "      <td>17.417590</td>\n",
       "      <td>16.796959</td>\n",
       "      <td>16.553184</td>\n",
       "      <td>19.228083</td>\n",
       "      <td>17.743528</td>\n",
       "      <td>17.182873</td>\n",
       "      <td>16.556389</td>\n",
       "      <td>16.341405</td>\n",
       "      <td>34.756745</td>\n",
       "      <td>111.262061</td>\n",
       "      <td>179.582642</td>\n",
       "      <td>227.975110</td>\n",
       "      <td>262.854593</td>\n",
       "      <td>-0.000092</td>\n",
       "      <td>2.136661e+18</td>\n",
       "      <td>-0.000092</td>\n",
       "      <td>0.000368</td>\n",
       "      <td>-3.804410e+05</td>\n",
       "      <td>-1.773546e+06</td>\n",
       "      <td>0.0</td>\n",
       "      <td>1.355134</td>\n",
       "      <td>6.748606</td>\n",
       "      <td>4.736719</td>\n",
       "      <td>60.334733</td>\n",
       "      <td>60.900871</td>\n",
       "      <td>1.516951</td>\n",
       "      <td>0.514856</td>\n",
       "      <td>0.633957</td>\n",
       "      <td>0.241824</td>\n",
       "      <td>-5.980259e+08</td>\n",
       "      <td>3.683893e+02</td>\n",
       "      <td>1.465104</td>\n",
       "      <td>1.989721</td>\n",
       "      <td>-0.256990</td>\n",
       "      <td>-0.022273</td>\n",
       "    </tr>\n",
       "    <tr>\n",
       "      <th>std</th>\n",
       "      <td>8.047148e+17</td>\n",
       "      <td>0.0</td>\n",
       "      <td>1634.981607</td>\n",
       "      <td>0.0</td>\n",
       "      <td>1.590384</td>\n",
       "      <td>154.218934</td>\n",
       "      <td>393.787818</td>\n",
       "      <td>105.453165</td>\n",
       "      <td>103.870736</td>\n",
       "      <td>93.948427</td>\n",
       "      <td>105.414326</td>\n",
       "      <td>106.950360</td>\n",
       "      <td>106.992513</td>\n",
       "      <td>103.872880</td>\n",
       "      <td>95.673698</td>\n",
       "      <td>106.955489</td>\n",
       "      <td>108.469811</td>\n",
       "      <td>105.454524</td>\n",
       "      <td>102.286709</td>\n",
       "      <td>93.948841</td>\n",
       "      <td>105.414991</td>\n",
       "      <td>106.951826</td>\n",
       "      <td>237.729853</td>\n",
       "      <td>256.255123</td>\n",
       "      <td>425.510313</td>\n",
       "      <td>592.779024</td>\n",
       "      <td>676.094267</td>\n",
       "      <td>0.000418</td>\n",
       "      <td>8.047148e+17</td>\n",
       "      <td>0.000418</td>\n",
       "      <td>0.136418</td>\n",
       "      <td>1.810843e+08</td>\n",
       "      <td>1.000791e+09</td>\n",
       "      <td>0.0</td>\n",
       "      <td>1.892388</td>\n",
       "      <td>33.598251</td>\n",
       "      <td>19.121831</td>\n",
       "      <td>12.005716</td>\n",
       "      <td>11.811234</td>\n",
       "      <td>31.333494</td>\n",
       "      <td>44.288503</td>\n",
       "      <td>47.830612</td>\n",
       "      <td>47.823976</td>\n",
       "      <td>4.257365e+11</td>\n",
       "      <td>1.364183e+05</td>\n",
       "      <td>1.695039</td>\n",
       "      <td>2.021944</td>\n",
       "      <td>18.080244</td>\n",
       "      <td>0.277629</td>\n",
       "    </tr>\n",
       "    <tr>\n",
       "      <th>min</th>\n",
       "      <td>2.994935e+17</td>\n",
       "      <td>2.0</td>\n",
       "      <td>94.000000</td>\n",
       "      <td>301.0</td>\n",
       "      <td>1.000000</td>\n",
       "      <td>11.000000</td>\n",
       "      <td>2.000000</td>\n",
       "      <td>-9999.000000</td>\n",
       "      <td>-9999.000000</td>\n",
       "      <td>-9999.000000</td>\n",
       "      <td>-9999.000000</td>\n",
       "      <td>-9999.000000</td>\n",
       "      <td>-9999.000000</td>\n",
       "      <td>-9999.000000</td>\n",
       "      <td>-9999.000000</td>\n",
       "      <td>-9999.000000</td>\n",
       "      <td>-9999.000000</td>\n",
       "      <td>-9999.000000</td>\n",
       "      <td>-9999.000000</td>\n",
       "      <td>-9999.000000</td>\n",
       "      <td>-9999.000000</td>\n",
       "      <td>-9999.000000</td>\n",
       "      <td>-15054.290000</td>\n",
       "      <td>-530.808900</td>\n",
       "      <td>-1195.235000</td>\n",
       "      <td>-938.574200</td>\n",
       "      <td>-181682.700000</td>\n",
       "      <td>-0.004309</td>\n",
       "      <td>2.994935e+17</td>\n",
       "      <td>-0.004309</td>\n",
       "      <td>0.000000</td>\n",
       "      <td>-9.773990e+10</td>\n",
       "      <td>-4.161700e+11</td>\n",
       "      <td>0.0</td>\n",
       "      <td>-1.925614</td>\n",
       "      <td>-215.215400</td>\n",
       "      <td>0.000000</td>\n",
       "      <td>0.000000</td>\n",
       "      <td>0.000000</td>\n",
       "      <td>-10020.203890</td>\n",
       "      <td>-10017.941730</td>\n",
       "      <td>-9.434040</td>\n",
       "      <td>-10016.733200</td>\n",
       "      <td>-2.191643e+14</td>\n",
       "      <td>-0.000000e+00</td>\n",
       "      <td>-10.850237</td>\n",
       "      <td>-9.375215</td>\n",
       "      <td>-7.989490</td>\n",
       "      <td>-11.508950</td>\n",
       "    </tr>\n",
       "    <tr>\n",
       "      <th>25%</th>\n",
       "      <td>1.357979e+18</td>\n",
       "      <td>2.0</td>\n",
       "      <td>2830.000000</td>\n",
       "      <td>301.0</td>\n",
       "      <td>2.000000</td>\n",
       "      <td>79.000000</td>\n",
       "      <td>92.000000</td>\n",
       "      <td>18.665670</td>\n",
       "      <td>17.310820</td>\n",
       "      <td>16.747460</td>\n",
       "      <td>16.457380</td>\n",
       "      <td>16.264490</td>\n",
       "      <td>18.974490</td>\n",
       "      <td>17.613020</td>\n",
       "      <td>17.054660</td>\n",
       "      <td>16.769420</td>\n",
       "      <td>16.579520</td>\n",
       "      <td>18.697520</td>\n",
       "      <td>17.333900</td>\n",
       "      <td>16.768240</td>\n",
       "      <td>16.479940</td>\n",
       "      <td>16.302070</td>\n",
       "      <td>2.109445</td>\n",
       "      <td>9.734794</td>\n",
       "      <td>18.921560</td>\n",
       "      <td>28.467550</td>\n",
       "      <td>37.083760</td>\n",
       "      <td>-0.000227</td>\n",
       "      <td>1.357979e+18</td>\n",
       "      <td>-0.000227</td>\n",
       "      <td>0.000000</td>\n",
       "      <td>-1.025461e+00</td>\n",
       "      <td>-1.062376e+01</td>\n",
       "      <td>0.0</td>\n",
       "      <td>0.697671</td>\n",
       "      <td>0.838320</td>\n",
       "      <td>0.000000</td>\n",
       "      <td>57.391250</td>\n",
       "      <td>61.321360</td>\n",
       "      <td>1.071130</td>\n",
       "      <td>0.369750</td>\n",
       "      <td>0.138100</td>\n",
       "      <td>0.042240</td>\n",
       "      <td>-4.855742e-01</td>\n",
       "      <td>0.000000e+00</td>\n",
       "      <td>0.297641</td>\n",
       "      <td>0.722361</td>\n",
       "      <td>-0.349030</td>\n",
       "      <td>-0.064730</td>\n",
       "    </tr>\n",
       "    <tr>\n",
       "      <th>50%</th>\n",
       "      <td>2.314929e+18</td>\n",
       "      <td>2.0</td>\n",
       "      <td>4192.000000</td>\n",
       "      <td>301.0</td>\n",
       "      <td>3.000000</td>\n",
       "      <td>148.000000</td>\n",
       "      <td>185.000000</td>\n",
       "      <td>20.144230</td>\n",
       "      <td>18.719940</td>\n",
       "      <td>18.024540</td>\n",
       "      <td>17.676400</td>\n",
       "      <td>17.439040</td>\n",
       "      <td>20.435010</td>\n",
       "      <td>19.008500</td>\n",
       "      <td>18.319650</td>\n",
       "      <td>17.982450</td>\n",
       "      <td>17.749270</td>\n",
       "      <td>20.161610</td>\n",
       "      <td>18.731300</td>\n",
       "      <td>18.039210</td>\n",
       "      <td>17.695350</td>\n",
       "      <td>17.476440</td>\n",
       "      <td>8.609465</td>\n",
       "      <td>32.154730</td>\n",
       "      <td>60.834840</td>\n",
       "      <td>83.493840</td>\n",
       "      <td>102.140700</td>\n",
       "      <td>-0.000059</td>\n",
       "      <td>2.314929e+18</td>\n",
       "      <td>-0.000059</td>\n",
       "      <td>0.000000</td>\n",
       "      <td>9.151852e-01</td>\n",
       "      <td>-3.777084e-01</td>\n",
       "      <td>0.0</td>\n",
       "      <td>0.999033</td>\n",
       "      <td>1.299928</td>\n",
       "      <td>0.000000</td>\n",
       "      <td>61.642830</td>\n",
       "      <td>62.418300</td>\n",
       "      <td>1.394730</td>\n",
       "      <td>0.581080</td>\n",
       "      <td>0.225360</td>\n",
       "      <td>0.112800</td>\n",
       "      <td>-8.631661e-02</td>\n",
       "      <td>0.000000e+00</td>\n",
       "      <td>1.357556</td>\n",
       "      <td>1.950446</td>\n",
       "      <td>-0.330560</td>\n",
       "      <td>-0.049400</td>\n",
       "    </tr>\n",
       "    <tr>\n",
       "      <th>75%</th>\n",
       "      <td>2.737172e+18</td>\n",
       "      <td>2.0</td>\n",
       "      <td>5061.000000</td>\n",
       "      <td>301.0</td>\n",
       "      <td>5.000000</td>\n",
       "      <td>246.000000</td>\n",
       "      <td>366.000000</td>\n",
       "      <td>21.685500</td>\n",
       "      <td>20.000820</td>\n",
       "      <td>19.282460</td>\n",
       "      <td>18.833100</td>\n",
       "      <td>18.531220</td>\n",
       "      <td>21.941280</td>\n",
       "      <td>20.286910</td>\n",
       "      <td>19.580060</td>\n",
       "      <td>19.142600</td>\n",
       "      <td>18.833820</td>\n",
       "      <td>21.684030</td>\n",
       "      <td>20.028580</td>\n",
       "      <td>19.307120</td>\n",
       "      <td>18.863600</td>\n",
       "      <td>18.576060</td>\n",
       "      <td>33.172750</td>\n",
       "      <td>116.441600</td>\n",
       "      <td>196.103900</td>\n",
       "      <td>255.773100</td>\n",
       "      <td>301.305000</td>\n",
       "      <td>0.000070</td>\n",
       "      <td>2.737172e+18</td>\n",
       "      <td>0.000070</td>\n",
       "      <td>0.000000</td>\n",
       "      <td>7.335853e+00</td>\n",
       "      <td>7.123369e+00</td>\n",
       "      <td>0.0</td>\n",
       "      <td>1.411581</td>\n",
       "      <td>2.240452</td>\n",
       "      <td>0.000000</td>\n",
       "      <td>66.203910</td>\n",
       "      <td>63.928880</td>\n",
       "      <td>1.972520</td>\n",
       "      <td>1.070570</td>\n",
       "      <td>0.446230</td>\n",
       "      <td>0.272360</td>\n",
       "      <td>1.854834e-01</td>\n",
       "      <td>0.000000e+00</td>\n",
       "      <td>2.544379</td>\n",
       "      <td>3.138287</td>\n",
       "      <td>-0.312970</td>\n",
       "      <td>-0.032990</td>\n",
       "    </tr>\n",
       "    <tr>\n",
       "      <th>max</th>\n",
       "      <td>3.348597e+18</td>\n",
       "      <td>2.0</td>\n",
       "      <td>8157.000000</td>\n",
       "      <td>301.0</td>\n",
       "      <td>6.000000</td>\n",
       "      <td>986.000000</td>\n",
       "      <td>6190.000000</td>\n",
       "      <td>29.091810</td>\n",
       "      <td>30.071980</td>\n",
       "      <td>25.950300</td>\n",
       "      <td>26.837730</td>\n",
       "      <td>24.406710</td>\n",
       "      <td>30.409610</td>\n",
       "      <td>30.497790</td>\n",
       "      <td>29.363740</td>\n",
       "      <td>26.270200</td>\n",
       "      <td>25.424210</td>\n",
       "      <td>37.213510</td>\n",
       "      <td>34.541130</td>\n",
       "      <td>34.797730</td>\n",
       "      <td>33.654810</td>\n",
       "      <td>36.302120</td>\n",
       "      <td>84404.340000</td>\n",
       "      <td>44966.800000</td>\n",
       "      <td>82537.580000</td>\n",
       "      <td>195884.400000</td>\n",
       "      <td>73488.440000</td>\n",
       "      <td>0.004621</td>\n",
       "      <td>3.348597e+18</td>\n",
       "      <td>0.004621</td>\n",
       "      <td>72.907250</td>\n",
       "      <td>1.241594e+10</td>\n",
       "      <td>3.212717e+10</td>\n",
       "      <td>0.0</td>\n",
       "      <td>143.465900</td>\n",
       "      <td>1392.430000</td>\n",
       "      <td>114.354400</td>\n",
       "      <td>91.194920</td>\n",
       "      <td>99.949830</td>\n",
       "      <td>10021.890950</td>\n",
       "      <td>11.257280</td>\n",
       "      <td>10023.715660</td>\n",
       "      <td>10017.316570</td>\n",
       "      <td>7.686655e+13</td>\n",
       "      <td>7.290725e+07</td>\n",
       "      <td>23.242247</td>\n",
       "      <td>24.192968</td>\n",
       "      <td>10015.763490</td>\n",
       "      <td>9.059010</td>\n",
       "    </tr>\n",
       "  </tbody>\n",
       "</table>\n",
       "</div>"
      ],
      "text/plain": [
       "        specObjID_p  skyVersion  ...  delta_psf_fiber_r  delta_psf_petro_r\n",
       "count  3.070250e+05    307025.0  ...      307025.000000      307025.000000\n",
       "mean   2.136661e+18         2.0  ...          -0.256990          -0.022273\n",
       "std    8.047148e+17         0.0  ...          18.080244           0.277629\n",
       "min    2.994935e+17         2.0  ...          -7.989490         -11.508950\n",
       "25%    1.357979e+18         2.0  ...          -0.349030          -0.064730\n",
       "50%    2.314929e+18         2.0  ...          -0.330560          -0.049400\n",
       "75%    2.737172e+18         2.0  ...          -0.312970          -0.032990\n",
       "max    3.348597e+18         2.0  ...       10015.763490           9.059010\n",
       "\n",
       "[8 rows x 49 columns]"
      ]
     },
     "execution_count": 10,
     "metadata": {},
     "output_type": "execute_result"
    }
   ],
   "source": [
    "df_pd = df.toPandas()\n",
    "\n",
    "df_pd.describe()"
   ]
  },
  {
   "cell_type": "code",
   "execution_count": 0,
   "metadata": {
    "application/vnd.databricks.v1+cell": {
     "cellMetadata": {
      "byteLimit": 2048000,
      "rowLimit": 10000
     },
     "inputWidgets": {},
     "nuid": "696c0dcd-4657-4547-a515-ef418659aac4",
     "showTitle": false,
     "tableResultSettingsMap": {},
     "title": ""
    },
    "id": "mFC3GjT4CkJN"
   },
   "outputs": [],
   "source": [
    "# Substitui -9999 e '-9999' por null nas colunas apropriadas\n",
    "for column_name, column_type in df.dtypes:\n",
    "    if column_type in ['int', 'bigint', 'double', 'float']:\n",
    "        df = df.withColumn(column_name, when(col(column_name) == -9999, None).otherwise(col(column_name)))\n",
    "    elif column_type == 'string':\n",
    "        df = df.withColumn(column_name, when(col(column_name) == '-9999', None).otherwise(col(column_name)))\n",
    "\n",
    "# Lista de colunas a tratar\n",
    "cols = df.columns\n",
    "\n",
    "# Dropa so nulos tratados acima\n",
    "df = df.dropna(subset=cols)"
   ]
  },
  {
   "cell_type": "code",
   "execution_count": 0,
   "metadata": {
    "application/vnd.databricks.v1+cell": {
     "cellMetadata": {
      "byteLimit": 2048000,
      "rowLimit": 10000
     },
     "inputWidgets": {},
     "nuid": "a7891347-6902-4442-8079-7827d87ef27c",
     "showTitle": false,
     "tableResultSettingsMap": {},
     "title": ""
    },
    "colab": {
     "base_uri": "https://localhost:8080/",
     "height": 300
    },
    "id": "QtCq6cs5Cptf",
    "outputId": "057264cc-53ee-463f-c292-875378499c11"
   },
   "outputs": [
    {
     "output_type": "execute_result",
     "data": {
      "text/html": [
       "<div>\n",
       "<style scoped>\n",
       "    .dataframe tbody tr th:only-of-type {\n",
       "        vertical-align: middle;\n",
       "    }\n",
       "\n",
       "    .dataframe tbody tr th {\n",
       "        vertical-align: top;\n",
       "    }\n",
       "\n",
       "    .dataframe thead th {\n",
       "        text-align: right;\n",
       "    }\n",
       "</style>\n",
       "<table border=\"1\" class=\"dataframe\">\n",
       "  <thead>\n",
       "    <tr style=\"text-align: right;\">\n",
       "      <th></th>\n",
       "      <th>specObjID_p</th>\n",
       "      <th>skyVersion</th>\n",
       "      <th>run</th>\n",
       "      <th>rerun</th>\n",
       "      <th>camcol</th>\n",
       "      <th>field</th>\n",
       "      <th>obj</th>\n",
       "      <th>psfMag_u</th>\n",
       "      <th>psfMag_g</th>\n",
       "      <th>psfMag_r</th>\n",
       "      <th>psfMag_i</th>\n",
       "      <th>psfMag_z</th>\n",
       "      <th>fiberMag_u</th>\n",
       "      <th>fiberMag_g</th>\n",
       "      <th>fiberMag_r</th>\n",
       "      <th>fiberMag_i</th>\n",
       "      <th>fiberMag_z</th>\n",
       "      <th>petroMag_u</th>\n",
       "      <th>petroMag_g</th>\n",
       "      <th>petroMag_r</th>\n",
       "      <th>petroMag_i</th>\n",
       "      <th>petroMag_z</th>\n",
       "      <th>petroFlux_u</th>\n",
       "      <th>petroFlux_g</th>\n",
       "      <th>petroFlux_r</th>\n",
       "      <th>petroFlux_i</th>\n",
       "      <th>petroFlux_z</th>\n",
       "      <th>z</th>\n",
       "      <th>specObjID_g</th>\n",
       "      <th>redshift</th>\n",
       "      <th>oii_3726_flux</th>\n",
       "      <th>oiii_5007_flux</th>\n",
       "      <th>h_alpha_flux</th>\n",
       "      <th>oii_3726_chisq</th>\n",
       "      <th>oiii_5007_chisq</th>\n",
       "      <th>h_alpha_chisq</th>\n",
       "      <th>oii_3726_inst_res</th>\n",
       "      <th>oiii_5007_inst_res</th>\n",
       "      <th>h_alpha_inst_res</th>\n",
       "      <th>u_g</th>\n",
       "      <th>g_r</th>\n",
       "      <th>r_i</th>\n",
       "      <th>i_z</th>\n",
       "      <th>flux_oiii_halpha</th>\n",
       "      <th>flux_oii_oiii</th>\n",
       "      <th>log_flux_oiii</th>\n",
       "      <th>log_flux_halpha</th>\n",
       "      <th>delta_psf_fiber_r</th>\n",
       "      <th>delta_psf_petro_r</th>\n",
       "    </tr>\n",
       "  </thead>\n",
       "  <tbody>\n",
       "    <tr>\n",
       "      <th>count</th>\n",
       "      <td>1.105500e+05</td>\n",
       "      <td>110550.0</td>\n",
       "      <td>110550.000000</td>\n",
       "      <td>110550.0</td>\n",
       "      <td>110550.000000</td>\n",
       "      <td>110550.000000</td>\n",
       "      <td>110550.000000</td>\n",
       "      <td>110550.000000</td>\n",
       "      <td>110550.000000</td>\n",
       "      <td>110550.000000</td>\n",
       "      <td>110550.000000</td>\n",
       "      <td>110550.000000</td>\n",
       "      <td>110550.000000</td>\n",
       "      <td>110550.000000</td>\n",
       "      <td>110550.000000</td>\n",
       "      <td>110550.000000</td>\n",
       "      <td>110550.000000</td>\n",
       "      <td>110550.000000</td>\n",
       "      <td>110550.000000</td>\n",
       "      <td>110550.000000</td>\n",
       "      <td>110550.000000</td>\n",
       "      <td>110550.000000</td>\n",
       "      <td>110550.000000</td>\n",
       "      <td>110550.000000</td>\n",
       "      <td>110550.000000</td>\n",
       "      <td>110550.000000</td>\n",
       "      <td>110550.000000</td>\n",
       "      <td>110550.000000</td>\n",
       "      <td>1.105500e+05</td>\n",
       "      <td>110550.000000</td>\n",
       "      <td>110550.000000</td>\n",
       "      <td>1.105500e+05</td>\n",
       "      <td>1.105500e+05</td>\n",
       "      <td>110550.0</td>\n",
       "      <td>110550.000000</td>\n",
       "      <td>110550.000000</td>\n",
       "      <td>110550.000000</td>\n",
       "      <td>110550.000000</td>\n",
       "      <td>110550.000000</td>\n",
       "      <td>110550.000000</td>\n",
       "      <td>110550.000000</td>\n",
       "      <td>110550.000000</td>\n",
       "      <td>110550.000000</td>\n",
       "      <td>1.105500e+05</td>\n",
       "      <td>1.105500e+05</td>\n",
       "      <td>110550.000000</td>\n",
       "      <td>110550.000000</td>\n",
       "      <td>110550.000000</td>\n",
       "      <td>110550.000000</td>\n",
       "    </tr>\n",
       "    <tr>\n",
       "      <th>mean</th>\n",
       "      <td>2.055831e+18</td>\n",
       "      <td>2.0</td>\n",
       "      <td>3995.305862</td>\n",
       "      <td>301.0</td>\n",
       "      <td>3.429652</td>\n",
       "      <td>193.175278</td>\n",
       "      <td>358.863338</td>\n",
       "      <td>21.197798</td>\n",
       "      <td>19.525574</td>\n",
       "      <td>18.673936</td>\n",
       "      <td>18.157849</td>\n",
       "      <td>17.877790</td>\n",
       "      <td>21.408190</td>\n",
       "      <td>19.799584</td>\n",
       "      <td>18.954783</td>\n",
       "      <td>18.451051</td>\n",
       "      <td>18.171716</td>\n",
       "      <td>21.220590</td>\n",
       "      <td>19.563291</td>\n",
       "      <td>18.686839</td>\n",
       "      <td>18.179393</td>\n",
       "      <td>17.930426</td>\n",
       "      <td>17.909549</td>\n",
       "      <td>58.791896</td>\n",
       "      <td>112.257432</td>\n",
       "      <td>151.886692</td>\n",
       "      <td>182.906137</td>\n",
       "      <td>-0.000082</td>\n",
       "      <td>2.055831e+18</td>\n",
       "      <td>-0.000082</td>\n",
       "      <td>0.001023</td>\n",
       "      <td>4.007767e+05</td>\n",
       "      <td>1.439406e+06</td>\n",
       "      <td>0.0</td>\n",
       "      <td>1.445422</td>\n",
       "      <td>3.564225</td>\n",
       "      <td>4.350441</td>\n",
       "      <td>56.788259</td>\n",
       "      <td>57.183251</td>\n",
       "      <td>1.672224</td>\n",
       "      <td>0.851638</td>\n",
       "      <td>0.516088</td>\n",
       "      <td>0.280059</td>\n",
       "      <td>6.953975e+08</td>\n",
       "      <td>1.023109e+03</td>\n",
       "      <td>1.082393</td>\n",
       "      <td>1.597334</td>\n",
       "      <td>-0.280847</td>\n",
       "      <td>-0.012903</td>\n",
       "    </tr>\n",
       "    <tr>\n",
       "      <th>std</th>\n",
       "      <td>8.135810e+17</td>\n",
       "      <td>0.0</td>\n",
       "      <td>1612.212961</td>\n",
       "      <td>0.0</td>\n",
       "      <td>1.587334</td>\n",
       "      <td>155.681425</td>\n",
       "      <td>402.401411</td>\n",
       "      <td>2.034555</td>\n",
       "      <td>1.902606</td>\n",
       "      <td>1.717531</td>\n",
       "      <td>1.517455</td>\n",
       "      <td>1.510119</td>\n",
       "      <td>1.924377</td>\n",
       "      <td>1.869210</td>\n",
       "      <td>1.690398</td>\n",
       "      <td>1.488400</td>\n",
       "      <td>1.488947</td>\n",
       "      <td>2.115012</td>\n",
       "      <td>1.976440</td>\n",
       "      <td>1.749531</td>\n",
       "      <td>1.563846</td>\n",
       "      <td>1.590867</td>\n",
       "      <td>326.747616</td>\n",
       "      <td>265.558602</td>\n",
       "      <td>447.679716</td>\n",
       "      <td>503.532541</td>\n",
       "      <td>625.934937</td>\n",
       "      <td>0.000483</td>\n",
       "      <td>8.135810e+17</td>\n",
       "      <td>0.000483</td>\n",
       "      <td>0.227341</td>\n",
       "      <td>2.013063e+07</td>\n",
       "      <td>1.026800e+08</td>\n",
       "      <td>0.0</td>\n",
       "      <td>2.289077</td>\n",
       "      <td>20.409604</td>\n",
       "      <td>18.369080</td>\n",
       "      <td>18.330818</td>\n",
       "      <td>18.530031</td>\n",
       "      <td>0.875500</td>\n",
       "      <td>0.622749</td>\n",
       "      <td>0.705970</td>\n",
       "      <td>0.475378</td>\n",
       "      <td>2.311841e+11</td>\n",
       "      <td>2.273414e+05</td>\n",
       "      <td>1.656864</td>\n",
       "      <td>1.899602</td>\n",
       "      <td>0.370616</td>\n",
       "      <td>0.345080</td>\n",
       "    </tr>\n",
       "    <tr>\n",
       "      <th>min</th>\n",
       "      <td>2.994965e+17</td>\n",
       "      <td>2.0</td>\n",
       "      <td>109.000000</td>\n",
       "      <td>301.0</td>\n",
       "      <td>1.000000</td>\n",
       "      <td>11.000000</td>\n",
       "      <td>2.000000</td>\n",
       "      <td>13.564370</td>\n",
       "      <td>11.777210</td>\n",
       "      <td>10.762190</td>\n",
       "      <td>10.397500</td>\n",
       "      <td>11.408490</td>\n",
       "      <td>13.886890</td>\n",
       "      <td>13.485350</td>\n",
       "      <td>13.034940</td>\n",
       "      <td>13.293250</td>\n",
       "      <td>11.926390</td>\n",
       "      <td>10.184090</td>\n",
       "      <td>10.867770</td>\n",
       "      <td>10.262180</td>\n",
       "      <td>10.391560</td>\n",
       "      <td>10.482400</td>\n",
       "      <td>-506.549900</td>\n",
       "      <td>-530.808900</td>\n",
       "      <td>-69.821040</td>\n",
       "      <td>-902.350500</td>\n",
       "      <td>-108370.600000</td>\n",
       "      <td>-0.004309</td>\n",
       "      <td>2.994965e+17</td>\n",
       "      <td>-0.004309</td>\n",
       "      <td>0.000000</td>\n",
       "      <td>-9.999806e-01</td>\n",
       "      <td>-9.998783e-01</td>\n",
       "      <td>0.0</td>\n",
       "      <td>-1.925614</td>\n",
       "      <td>-28.049910</td>\n",
       "      <td>0.000000</td>\n",
       "      <td>0.000000</td>\n",
       "      <td>0.000000</td>\n",
       "      <td>-6.574510</td>\n",
       "      <td>-7.424790</td>\n",
       "      <td>-9.434040</td>\n",
       "      <td>-8.491220</td>\n",
       "      <td>-9.926114e+05</td>\n",
       "      <td>0.000000e+00</td>\n",
       "      <td>-10.850237</td>\n",
       "      <td>-9.013952</td>\n",
       "      <td>-7.989490</td>\n",
       "      <td>-8.396230</td>\n",
       "    </tr>\n",
       "    <tr>\n",
       "      <th>25%</th>\n",
       "      <td>1.275785e+18</td>\n",
       "      <td>2.0</td>\n",
       "      <td>2822.000000</td>\n",
       "      <td>301.0</td>\n",
       "      <td>2.000000</td>\n",
       "      <td>80.000000</td>\n",
       "      <td>126.000000</td>\n",
       "      <td>19.804780</td>\n",
       "      <td>18.233818</td>\n",
       "      <td>17.465390</td>\n",
       "      <td>17.098525</td>\n",
       "      <td>16.841983</td>\n",
       "      <td>20.096970</td>\n",
       "      <td>18.519645</td>\n",
       "      <td>17.747847</td>\n",
       "      <td>17.384957</td>\n",
       "      <td>17.134710</td>\n",
       "      <td>19.808550</td>\n",
       "      <td>18.235545</td>\n",
       "      <td>17.455950</td>\n",
       "      <td>17.088030</td>\n",
       "      <td>16.853765</td>\n",
       "      <td>0.993645</td>\n",
       "      <td>5.690842</td>\n",
       "      <td>10.936193</td>\n",
       "      <td>19.190742</td>\n",
       "      <td>25.454907</td>\n",
       "      <td>-0.000215</td>\n",
       "      <td>1.275785e+18</td>\n",
       "      <td>-0.000215</td>\n",
       "      <td>0.000000</td>\n",
       "      <td>0.000000e+00</td>\n",
       "      <td>2.469403e-01</td>\n",
       "      <td>0.0</td>\n",
       "      <td>0.611591</td>\n",
       "      <td>0.702022</td>\n",
       "      <td>0.000000</td>\n",
       "      <td>57.091712</td>\n",
       "      <td>61.068078</td>\n",
       "      <td>1.071010</td>\n",
       "      <td>0.497845</td>\n",
       "      <td>0.187153</td>\n",
       "      <td>0.079725</td>\n",
       "      <td>0.000000e+00</td>\n",
       "      <td>0.000000e+00</td>\n",
       "      <td>0.000000</td>\n",
       "      <td>0.220693</td>\n",
       "      <td>-0.349500</td>\n",
       "      <td>-0.069100</td>\n",
       "    </tr>\n",
       "    <tr>\n",
       "      <th>50%</th>\n",
       "      <td>2.155011e+18</td>\n",
       "      <td>2.0</td>\n",
       "      <td>4145.000000</td>\n",
       "      <td>301.0</td>\n",
       "      <td>3.000000</td>\n",
       "      <td>151.000000</td>\n",
       "      <td>225.000000</td>\n",
       "      <td>21.017200</td>\n",
       "      <td>19.461795</td>\n",
       "      <td>18.738005</td>\n",
       "      <td>18.319395</td>\n",
       "      <td>17.940740</td>\n",
       "      <td>21.290320</td>\n",
       "      <td>19.757110</td>\n",
       "      <td>19.034605</td>\n",
       "      <td>18.626070</td>\n",
       "      <td>18.254630</td>\n",
       "      <td>21.016975</td>\n",
       "      <td>19.482830</td>\n",
       "      <td>18.749520</td>\n",
       "      <td>18.336520</td>\n",
       "      <td>17.976315</td>\n",
       "      <td>3.914324</td>\n",
       "      <td>16.101090</td>\n",
       "      <td>31.636310</td>\n",
       "      <td>46.279075</td>\n",
       "      <td>64.478900</td>\n",
       "      <td>-0.000050</td>\n",
       "      <td>2.155011e+18</td>\n",
       "      <td>-0.000050</td>\n",
       "      <td>0.000000</td>\n",
       "      <td>1.637282e+00</td>\n",
       "      <td>3.765137e+00</td>\n",
       "      <td>0.0</td>\n",
       "      <td>1.001993</td>\n",
       "      <td>1.145208</td>\n",
       "      <td>0.000000</td>\n",
       "      <td>59.971130</td>\n",
       "      <td>62.249415</td>\n",
       "      <td>1.635310</td>\n",
       "      <td>0.780020</td>\n",
       "      <td>0.310145</td>\n",
       "      <td>0.180255</td>\n",
       "      <td>1.785940e-01</td>\n",
       "      <td>0.000000e+00</td>\n",
       "      <td>0.969749</td>\n",
       "      <td>1.561326</td>\n",
       "      <td>-0.329300</td>\n",
       "      <td>-0.050420</td>\n",
       "    </tr>\n",
       "    <tr>\n",
       "      <th>75%</th>\n",
       "      <td>2.703449e+18</td>\n",
       "      <td>2.0</td>\n",
       "      <td>4887.000000</td>\n",
       "      <td>301.0</td>\n",
       "      <td>5.000000</td>\n",
       "      <td>253.000000</td>\n",
       "      <td>455.000000</td>\n",
       "      <td>22.627095</td>\n",
       "      <td>20.581930</td>\n",
       "      <td>19.887667</td>\n",
       "      <td>19.263025</td>\n",
       "      <td>18.943797</td>\n",
       "      <td>22.768343</td>\n",
       "      <td>20.861695</td>\n",
       "      <td>20.176288</td>\n",
       "      <td>19.570322</td>\n",
       "      <td>19.242193</td>\n",
       "      <td>22.485982</td>\n",
       "      <td>20.611785</td>\n",
       "      <td>19.902700</td>\n",
       "      <td>19.292170</td>\n",
       "      <td>18.984655</td>\n",
       "      <td>11.926742</td>\n",
       "      <td>50.790212</td>\n",
       "      <td>104.140575</td>\n",
       "      <td>146.145625</td>\n",
       "      <td>181.336600</td>\n",
       "      <td>0.000075</td>\n",
       "      <td>2.703449e+18</td>\n",
       "      <td>0.000075</td>\n",
       "      <td>0.000000</td>\n",
       "      <td>6.154489e+00</td>\n",
       "      <td>1.308908e+01</td>\n",
       "      <td>0.0</td>\n",
       "      <td>1.502564</td>\n",
       "      <td>1.786864</td>\n",
       "      <td>0.000000</td>\n",
       "      <td>66.038105</td>\n",
       "      <td>63.766648</td>\n",
       "      <td>2.314258</td>\n",
       "      <td>1.297053</td>\n",
       "      <td>0.599027</td>\n",
       "      <td>0.357147</td>\n",
       "      <td>8.095030e-01</td>\n",
       "      <td>-0.000000e+00</td>\n",
       "      <td>1.967740</td>\n",
       "      <td>2.645400</td>\n",
       "      <td>-0.309290</td>\n",
       "      <td>-0.029500</td>\n",
       "    </tr>\n",
       "    <tr>\n",
       "      <th>max</th>\n",
       "      <td>3.348597e+18</td>\n",
       "      <td>2.0</td>\n",
       "      <td>8157.000000</td>\n",
       "      <td>301.0</td>\n",
       "      <td>6.000000</td>\n",
       "      <td>986.000000</td>\n",
       "      <td>5710.000000</td>\n",
       "      <td>27.077930</td>\n",
       "      <td>27.603530</td>\n",
       "      <td>25.950300</td>\n",
       "      <td>26.837730</td>\n",
       "      <td>24.254130</td>\n",
       "      <td>27.390220</td>\n",
       "      <td>29.528830</td>\n",
       "      <td>29.363740</td>\n",
       "      <td>25.822620</td>\n",
       "      <td>24.060550</td>\n",
       "      <td>33.530910</td>\n",
       "      <td>34.541130</td>\n",
       "      <td>31.714060</td>\n",
       "      <td>33.612080</td>\n",
       "      <td>35.741120</td>\n",
       "      <td>84404.340000</td>\n",
       "      <td>44966.800000</td>\n",
       "      <td>78546.740000</td>\n",
       "      <td>69723.000000</td>\n",
       "      <td>64126.890000</td>\n",
       "      <td>0.004621</td>\n",
       "      <td>3.348597e+18</td>\n",
       "      <td>0.004621</td>\n",
       "      <td>72.907250</td>\n",
       "      <td>4.749437e+09</td>\n",
       "      <td>3.212717e+10</td>\n",
       "      <td>0.0</td>\n",
       "      <td>120.936300</td>\n",
       "      <td>917.873700</td>\n",
       "      <td>114.354400</td>\n",
       "      <td>90.350770</td>\n",
       "      <td>98.483800</td>\n",
       "      <td>9.106520</td>\n",
       "      <td>9.464630</td>\n",
       "      <td>10.466470</td>\n",
       "      <td>8.404030</td>\n",
       "      <td>7.686655e+13</td>\n",
       "      <td>7.290725e+07</td>\n",
       "      <td>22.281292</td>\n",
       "      <td>24.192968</td>\n",
       "      <td>9.876420</td>\n",
       "      <td>9.059010</td>\n",
       "    </tr>\n",
       "  </tbody>\n",
       "</table>\n",
       "</div>"
      ],
      "text/plain": [
       "        specObjID_p  skyVersion  ...  delta_psf_fiber_r  delta_psf_petro_r\n",
       "count  1.105500e+05    110550.0  ...      110550.000000      110550.000000\n",
       "mean   2.055831e+18         2.0  ...          -0.280847          -0.012903\n",
       "std    8.135810e+17         0.0  ...           0.370616           0.345080\n",
       "min    2.994965e+17         2.0  ...          -7.989490          -8.396230\n",
       "25%    1.275785e+18         2.0  ...          -0.349500          -0.069100\n",
       "50%    2.155011e+18         2.0  ...          -0.329300          -0.050420\n",
       "75%    2.703449e+18         2.0  ...          -0.309290          -0.029500\n",
       "max    3.348597e+18         2.0  ...           9.876420           9.059010\n",
       "\n",
       "[8 rows x 49 columns]"
      ]
     },
     "execution_count": 12,
     "metadata": {},
     "output_type": "execute_result"
    }
   ],
   "source": [
    "df_pd = df.toPandas()\n",
    "\n",
    "df_pd.describe()"
   ]
  },
  {
   "cell_type": "code",
   "execution_count": 0,
   "metadata": {
    "application/vnd.databricks.v1+cell": {
     "cellMetadata": {
      "byteLimit": 2048000,
      "rowLimit": 10000
     },
     "inputWidgets": {},
     "nuid": "8996f665-69a5-49bb-abf5-1bc3ff996fa4",
     "showTitle": false,
     "tableResultSettingsMap": {},
     "title": ""
    }
   },
   "outputs": [
    {
     "output_type": "execute_result",
     "data": {
      "text/plain": [
       "110550"
      ]
     },
     "execution_count": 13,
     "metadata": {},
     "output_type": "execute_result"
    }
   ],
   "source": [
    "df.count()"
   ]
  },
  {
   "cell_type": "code",
   "execution_count": 0,
   "metadata": {
    "application/vnd.databricks.v1+cell": {
     "cellMetadata": {
      "byteLimit": 2048000,
      "rowLimit": 10000
     },
     "inputWidgets": {},
     "nuid": "e60b3a2f-1ef5-4ea4-a453-99083472b4f2",
     "showTitle": false,
     "tableResultSettingsMap": {},
     "title": ""
    }
   },
   "outputs": [
    {
     "output_type": "stream",
     "name": "stdout",
     "output_type": "stream",
     "text": [
      "dbfs:/FileStore/classification/astronomical_objects/silver/balanceado/espectros_estelares_tratado\n"
     ]
    }
   ],
   "source": [
    "# Salvando arquivo parquet no diretorio TRATADO\n",
    "\n",
    "caminho_completo_tratado = pasta_silver + \"/\" + arquivo_tratado\n",
    "print(caminho_completo_tratado)\n",
    "\n",
    "# salvar em parquet \n",
    "df.coalesce(1).write.mode(\"overwrite\").parquet(caminho_completo_tratado)"
   ]
  },
  {
   "cell_type": "markdown",
   "metadata": {
    "application/vnd.databricks.v1+cell": {
     "cellMetadata": {
      "byteLimit": 2048000,
      "rowLimit": 10000
     },
     "inputWidgets": {},
     "nuid": "f089c1cb-216d-4d47-bf04-825256a4c9ee",
     "showTitle": false,
     "tableResultSettingsMap": {},
     "title": ""
    }
   },
   "source": [
    "\n",
    "#### Feature Enginering"
   ]
  },
  {
   "cell_type": "code",
   "execution_count": 0,
   "metadata": {
    "application/vnd.databricks.v1+cell": {
     "cellMetadata": {
      "byteLimit": 2048000,
      "rowLimit": 10000
     },
     "inputWidgets": {},
     "nuid": "36c7d596-0506-41e7-ab5d-d6414b496826",
     "showTitle": false,
     "tableResultSettingsMap": {},
     "title": ""
    }
   },
   "outputs": [
    {
     "output_type": "execute_result",
     "data": {
      "text/plain": [
       "Index(['specObjID_p', 'skyVersion', 'run', 'rerun', 'camcol', 'field', 'obj',\n",
       "       'psfMag_u', 'psfMag_g', 'psfMag_r', 'psfMag_i', 'psfMag_z',\n",
       "       'fiberMag_u', 'fiberMag_g', 'fiberMag_r', 'fiberMag_i', 'fiberMag_z',\n",
       "       'petroMag_u', 'petroMag_g', 'petroMag_r', 'petroMag_i', 'petroMag_z',\n",
       "       'petroFlux_u', 'petroFlux_g', 'petroFlux_r', 'petroFlux_i',\n",
       "       'petroFlux_z', 'z', 'specObjID_g', 'redshift', 'oii_3726_flux',\n",
       "       'oiii_5007_flux', 'h_alpha_flux', 'oii_3726_chisq', 'oiii_5007_chisq',\n",
       "       'h_alpha_chisq', 'oii_3726_inst_res', 'oiii_5007_inst_res',\n",
       "       'h_alpha_inst_res', 'u_g', 'g_r', 'r_i', 'i_z', 'flux_oiii_halpha',\n",
       "       'flux_oii_oiii', 'log_flux_oiii', 'log_flux_halpha',\n",
       "       'delta_psf_fiber_r', 'delta_psf_petro_r'],\n",
       "      dtype='object')"
      ]
     },
     "execution_count": 15,
     "metadata": {},
     "output_type": "execute_result"
    }
   ],
   "source": [
    "# Etapa 3: Separar features e rótulos\n",
    "X = df_pd.drop(\"class\",axis=1)\n",
    "X = X.drop(\"subclass\",axis=1)\n",
    "X = X.drop(\"spectrotype\",axis=1)\n",
    "y = df_pd[\"subclass\"]\n",
    "\n",
    "X.columns"
   ]
  },
  {
   "cell_type": "code",
   "execution_count": 0,
   "metadata": {
    "application/vnd.databricks.v1+cell": {
     "cellMetadata": {
      "byteLimit": 2048000,
      "rowLimit": 10000
     },
     "inputWidgets": {},
     "nuid": "646e922f-c314-42a3-86d7-9b0037362e23",
     "showTitle": false,
     "tableResultSettingsMap": {},
     "title": ""
    }
   },
   "outputs": [
    {
     "output_type": "display_data",
     "data": {
      "application/vnd.jupyter.widget-view+json": {
       "model_id": "179b8434f67444f29b71ffa5aed01eb7",
       "version_major": 2,
       "version_minor": 0
      },
      "text/plain": [
       "Uploading artifacts:   0%|          | 0/1 [00:00<?, ?it/s]"
      ]
     },
     "metadata": {},
     "output_type": "display_data"
    }
   ],
   "source": [
    "# Suponha que X seja seu dataframe de features e y a variável alvo (ex: 'class' ou 'subclass')\n",
    "model = RandomForestClassifier(n_estimators=200, n_jobs=-1)\n",
    "model.fit(X, y)\n",
    "\n",
    "# Pegando importâncias\n",
    "importances = model.feature_importances_"
   ]
  },
  {
   "cell_type": "code",
   "execution_count": 0,
   "metadata": {
    "application/vnd.databricks.v1+cell": {
     "cellMetadata": {
      "byteLimit": 2048000,
      "rowLimit": 10000
     },
     "inputWidgets": {},
     "nuid": "08d49c91-2f0b-4aa1-af4a-aa1ecdcd29bf",
     "showTitle": false,
     "tableResultSettingsMap": {},
     "title": ""
    }
   },
   "outputs": [
    {
     "output_type": "display_data",
     "data": {
      "image/png": "[encoded data removed]",
      "text/plain": [
       "<Figure size 1000x400 with 1 Axes>"
      ]
     },
     "metadata": {},
     "output_type": "display_data"
    }
   ],
   "source": [
    "# Criando um dataframe organizado\n",
    "feat_importance = pd.DataFrame({\n",
    "    'Feature': X.columns,\n",
    "    'Importance': importances\n",
    "}).sort_values(by='Importance', ascending=False)\n",
    "\n",
    "# Visualizando\n",
    "plt.figure(figsize=(10, 4))\n",
    "sns.barplot(data=feat_importance.head(16), x='Importance', y='Feature')\n",
    "plt.title(\"Top Features mais importantes\")\n",
    "plt.tight_layout()\n",
    "plt.show()\n"
   ]
  },
  {
   "cell_type": "code",
   "execution_count": 0,
   "metadata": {
    "application/vnd.databricks.v1+cell": {
     "cellMetadata": {
      "byteLimit": 2048000,
      "rowLimit": 10000
     },
     "inputWidgets": {},
     "nuid": "61ff0a5f-0e4c-4dc3-b184-8ec01a86db70",
     "showTitle": false,
     "tableResultSettingsMap": {},
     "title": ""
    }
   },
   "outputs": [
    {
     "output_type": "stream",
     "name": "stdout",
     "output_type": "stream",
     "text": [
      "['r_i', 'g_r', 'u_g', 'i_z', 'subclass']\n"
     ]
    }
   ],
   "source": [
    "# Registrar as 4 features mais importantes + a classe\n",
    "lista_features = feat_importance.head(4)['Feature'].tolist() + ['subclass']\n",
    "print(lista_features)  "
   ]
  },
  {
   "cell_type": "code",
   "execution_count": 0,
   "metadata": {
    "application/vnd.databricks.v1+cell": {
     "cellMetadata": {
      "byteLimit": 2048000,
      "rowLimit": 10000
     },
     "inputWidgets": {},
     "nuid": "b0b5539f-743b-405d-9fd8-4c138428e802",
     "showTitle": false,
     "tableResultSettingsMap": {},
     "title": ""
    }
   },
   "outputs": [],
   "source": [
    "# Selecionar features\n",
    "df = df.select(lista_features)\n",
    "#display(df)"
   ]
  },
  {
   "cell_type": "code",
   "execution_count": 0,
   "metadata": {
    "application/vnd.databricks.v1+cell": {
     "cellMetadata": {
      "byteLimit": 2048000,
      "rowLimit": 10000
     },
     "inputWidgets": {},
     "nuid": "0a734e13-d355-48e1-a249-55f54477159c",
     "showTitle": false,
     "tableResultSettingsMap": {},
     "title": ""
    }
   },
   "outputs": [],
   "source": [
    "# df spark para df pandas\n",
    "df_pd = df.toPandas()"
   ]
  },
  {
   "cell_type": "code",
   "execution_count": 0,
   "metadata": {
    "application/vnd.databricks.v1+cell": {
     "cellMetadata": {
      "byteLimit": 2048000,
      "rowLimit": 10000
     },
     "inputWidgets": {},
     "nuid": "cf210436-46c9-4dcc-8b67-d192025a82cb",
     "showTitle": false,
     "tableResultSettingsMap": {},
     "title": ""
    },
    "colab": {
     "base_uri": "https://localhost:8080/",
     "height": 468
    },
    "id": "gikeVAopBI6H",
    "outputId": "8711bdce-c96f-4bb8-c35e-9312a44458cd"
   },
   "outputs": [
    {
     "output_type": "display_data",
     "data": {
      "image/png": "[encoded data removed]",
      "text/plain": [
       "<Figure size 1000x400 with 1 Axes>"
      ]
     },
     "metadata": {},
     "output_type": "display_data"
    }
   ],
   "source": [
    "# Ordenar os rótulos da coluna 'subclass' pela contagem (do maior para o menor)\n",
    "order = df_pd['subclass'].value_counts().index\n",
    "\n",
    "# Plot com ordem definida\n",
    "plt.figure(figsize=(10, 4))\n",
    "sns.countplot(data=df_pd, x='subclass', order=order)\n",
    "plt.title(\"Distribuição das classes\")\n",
    "plt.xlabel(\"Classe\")\n",
    "plt.ylabel(\"Contagem\")\n",
    "plt.xticks(rotation=90)  # Roda os rótulos se tiver muitos\n",
    "plt.tight_layout()\n",
    "plt.show()"
   ]
  },
  {
   "cell_type": "code",
   "execution_count": 0,
   "metadata": {
    "application/vnd.databricks.v1+cell": {
     "cellMetadata": {
      "byteLimit": 2048000,
      "rowLimit": 10000
     },
     "inputWidgets": {},
     "nuid": "31ae65fe-bcb4-4ef1-9aa2-9099b9684f9e",
     "showTitle": false,
     "tableResultSettingsMap": {},
     "title": ""
    },
    "id": "N0jLQgmnEq6e"
   },
   "outputs": [],
   "source": [
    "# Separar features e rótulos\n",
    "X = df_pd.drop(\"subclass\",axis=1)\n",
    "y = df_pd[\"subclass\"]\n",
    "\n",
    "# Aplicar SMOTE no conjunto de treino para tratar desbalanceamento das classes\n",
    "smote = SMOTE()\n",
    "X_smote, y_smote = smote.fit_resample(X, y)"
   ]
  },
  {
   "cell_type": "code",
   "execution_count": 0,
   "metadata": {
    "application/vnd.databricks.v1+cell": {
     "cellMetadata": {
      "byteLimit": 2048000,
      "rowLimit": 10000
     },
     "inputWidgets": {},
     "nuid": "521176d1-0f1a-4623-815f-aec6f5502dbb",
     "showTitle": false,
     "tableResultSettingsMap": {},
     "title": ""
    }
   },
   "outputs": [
    {
     "output_type": "stream",
     "name": "stdout",
     "output_type": "stream",
     "text": [
      "dbfs:/FileStore/classification/astronomical_objects/silver/balanceado/espectros_estelares_balanceado\n"
     ]
    }
   ],
   "source": [
    "# Etapa 4: Juntar os dados balanceados\n",
    "df_smote = pd.concat([X_smote, y_smote], axis=1)\n",
    "\n",
    "# Converter para pandas e salvar localmente (sem Spark)\n",
    "caminho_completo_balanceado = pasta_silver + \"/\" + arquivo_balanceado\n",
    "print(caminho_completo_balanceado)\n",
    "\n",
    "\n",
    "# Salvando em parquet o arquivo balanceado\n",
    "spark.createDataFrame(df_smote)\\\n",
    "        .coalesce(1)\\\n",
    "        .write.mode(\"overwrite\").parquet(caminho_completo_balanceado)\n"
   ]
  },
  {
   "cell_type": "code",
   "execution_count": 0,
   "metadata": {
    "application/vnd.databricks.v1+cell": {
     "cellMetadata": {
      "byteLimit": 2048000,
      "rowLimit": 10000
     },
     "inputWidgets": {},
     "nuid": "a1cc808c-6ce0-4dd8-b74d-99d63f98e8d6",
     "showTitle": false,
     "tableResultSettingsMap": {},
     "title": ""
    },
    "colab": {
     "base_uri": "https://localhost:8080/",
     "height": 1000
    },
    "id": "r8X2xP1uFPGT",
    "outputId": "6b10921a-ff7d-4883-fd13-d8d27e186b14"
   },
   "outputs": [
    {
     "output_type": "stream",
     "name": "stdout",
     "output_type": "stream",
     "text": [
      "Distribuição após SMOTE:\n Counter({'K': 39636, 'M': 39636, 'F': 39636, 'W': 39636, 'C': 39636, 'A': 39636, 'T': 39636, 'G': 39636, 'L': 39636, 'O': 39636, 'B': 39636})\n\n\n"
     ]
    },
    {
     "output_type": "display_data",
     "data": {
      "image/png": "[encoded data removed]",
      "text/plain": [
       "<Figure size 1000x400 with 1 Axes>"
      ]
     },
     "metadata": {},
     "output_type": "display_data"
    }
   ],
   "source": [
    "# Ver distribuição das classes codificadas\n",
    "print(\"Distribuição após SMOTE:\\n\", Counter(y_smote))\n",
    "print(\"\\n\")\n",
    "\n",
    "# Plot codificado\n",
    "plt.figure(figsize=(10, 4))\n",
    "sns.countplot(x=y_smote) # seaborn\n",
    "plt.title(\"Distribuição das classes\")\n",
    "plt.xlabel(\"Classe\")\n",
    "plt.ylabel(\"Contagem\")\n",
    "plt.show()"
   ]
  },
  {
   "cell_type": "code",
   "execution_count": 0,
   "metadata": {
    "application/vnd.databricks.v1+cell": {
     "cellMetadata": {
      "byteLimit": 2048000,
      "rowLimit": 10000
     },
     "inputWidgets": {},
     "nuid": "09248c9c-06a8-4662-9c2b-21f6639c8ea1",
     "showTitle": false,
     "tableResultSettingsMap": {},
     "title": ""
    }
   },
   "outputs": [
    {
     "output_type": "execute_result",
     "data": {
      "text/plain": [
       "r_i         110550\n",
       "g_r         110550\n",
       "u_g         110550\n",
       "i_z         110550\n",
       "subclass    110550\n",
       "dtype: int64"
      ]
     },
     "execution_count": 25,
     "metadata": {},
     "output_type": "execute_result"
    }
   ],
   "source": [
    "# Contagem do df original antes do balanceamento\n",
    "df_pd.count()"
   ]
  },
  {
   "cell_type": "code",
   "execution_count": 0,
   "metadata": {
    "application/vnd.databricks.v1+cell": {
     "cellMetadata": {
      "byteLimit": 2048000,
      "rowLimit": 10000
     },
     "inputWidgets": {},
     "nuid": "d461eab5-cc58-4810-8449-0ee763500059",
     "showTitle": false,
     "tableResultSettingsMap": {},
     "title": ""
    }
   },
   "outputs": [
    {
     "output_type": "execute_result",
     "data": {
      "text/plain": [
       "r_i         435996\n",
       "g_r         435996\n",
       "u_g         435996\n",
       "i_z         435996\n",
       "subclass    435996\n",
       "dtype: int64"
      ]
     },
     "execution_count": 26,
     "metadata": {},
     "output_type": "execute_result"
    }
   ],
   "source": [
    "# Contagem do df após o balanceamento\n",
    "df_smote.count()"
   ]
  }
 ],
 "metadata": {
  "accelerator": "GPU",
  "application/vnd.databricks.v1+notebook": {
   "computePreferences": null,
   "dashboards": [],
   "environmentMetadata": null,
   "inputWidgetPreferences": null,
   "language": "python",
   "notebookMetadata": {
    "pythonIndentUnit": 4
   },
   "notebookName": "tcc_01_tratamento_EspectrosEstelares",
   "widgets": {}
  },
  "colab": {
   "gpuType": "T4",
   "provenance": []
  },
  "kernelspec": {
   "display_name": "Python 3 (ipykernel)",
   "language": "python",
   "name": "python3"
  },
  "language_info": {
   "name": "python"
  }
 },
 "nbformat": 4,
 "nbformat_minor": 0
}