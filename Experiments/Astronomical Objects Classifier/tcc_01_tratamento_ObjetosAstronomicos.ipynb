{
 "cells": [
  {
   "cell_type": "markdown",
   "metadata": {
    "application/vnd.databricks.v1+cell": {
     "cellMetadata": {},
     "inputWidgets": {},
     "nuid": "001087d9-d277-46bf-943e-e5e2543e7274",
     "showTitle": false,
     "tableResultSettingsMap": {},
     "title": ""
    }
   },
   "source": [
    "## Autor: Claudio Honorato Junior\n",
    "\n",
    "Este trabalho faz parte da Monografia apresentada ao Departamento de Ciências de Computação do Instituto de Ciências Matemáticas e de Computação, Universidade de São Paulo - ICMC/USP, como parte dos requisitos para obtenção do título de Especialista em Inteligência Artificial e Big Data.\n",
    "\n",
    "## Classificação de Objetos Celestes e Espectros Estelares com Perceptron \n",
    "\n",
    "Este trabalho propõe o uso de Redes Neurais Multicamadas (MLP) para a classificação de \n",
    "objetos astronômicos com base em dados espectroscópicos do Sloan Digital Sky Survey (SDSS). \n",
    "A pesquisa aborda três objetivos principais: (i) classificar objetos celestes em estrelas, galáxias \n",
    "e quasares; (ii) subclassificar estrelas conforme a classificação espectral de Harvard, com base \n",
    "na temperatura superficial. O modelo MLP foi comparado com algoritmos tradicionais como \n",
    "SVM, KNN, Regressão Logística, Random Forest e Naive-Bayes, entre outros, avaliando seu desempenho por \n",
    "meio de métricas como acurácia, precisão, recall e F1-score. A metodologia incluiu limpeza, \n",
    "normalização e seleção de features espectrais, além de técnicas de validação cruzada para \n",
    "garantir a robustez dos resultados. Os achados mostram que redes neurais profundas podem \n",
    "ser eficazes na análise de espectros astronômicos, oferecendo uma alternativa promissora \n",
    "para o tratamento de grandes volumes de dados no contexto da astrofísica moderna.\n",
    "\n",
    "#### Neste notebook: (i) classificar objetos celestes em estrelas, galáxias e quasares;\n",
    "\n",
    "## Classification of Celestial Objects and Stellar Spectra with Perceptron\n",
    "\n",
    "This work proposes the use of Multilayer Neural Networks (MLP) for the classification of \n",
    "astronomical objects based on spectroscopic data from the Sloan Digital Sky Survey (SDSS). The \n",
    "research addresses three main objectives: (i) to classify celestial objects into stars, galaxies, \n",
    "and quasars; (ii) to subclassify stars according to the Harvard spectral classification, based on \n",
    "surface temperature. The MLP model was compared with traditional algorithms such as SVM, \n",
    "KNN, Logistic Regression, Random Forest, and Naive-Bayes, between others, evaluating its performance \n",
    "through metrics such as accuracy, precision, recall, and F1-score. The methodology included \n",
    "spectral cleaning, normalization, and feature selection, as well as cross-validation techniques \n",
    "to ensure the robustness of the results. The findings show that deep neural networks can be \n",
    "effective in the analysis of astronomical spectra, offering a promising alternative for the \n",
    "treatment of large volumes of data in the context of modern astrophysics.\n",
    "\n",
    "#### In this notebook:  (i) to classify celestial objects into stars, galaxies, and quasars;\n",
    "\n",
    "\n",
    "### NOTEBOOK DE TRATAMENTO E PREPARAÇÃO DOS DADOS\n",
    "#### O objetivo deste notebook é preparar os dados para serem consumidos pelo segundo notebook chamado \"tcc_02_treinamento_ObjetosAstronomicos\".\n"
   ]
  },
  {
   "cell_type": "code",
   "execution_count": 0,
   "metadata": {
    "application/vnd.databricks.v1+cell": {
     "cellMetadata": {
      "byteLimit": 2048000,
      "rowLimit": 10000
     },
     "inputWidgets": {},
     "nuid": "fb79c187-104d-45d6-87c1-75f1bcc46045",
     "showTitle": false,
     "tableResultSettingsMap": {},
     "title": ""
    }
   },
   "outputs": [
    {
     "output_type": "stream",
     "name": "stdout",
     "output_type": "stream",
     "text": [
      "Collecting SMOTE\n  Downloading smote-0.1-py2.py3-none-any.whl.metadata (278 bytes)\nCollecting imblearn\n  Downloading imblearn-0.0-py2.py3-none-any.whl.metadata (355 bytes)\nRequirement already satisfied: numpy>=1.14.3 in /databricks/python3/lib/python3.12/site-packages (from SMOTE) (2.1.3)\nRequirement already satisfied: scikit-learn>=0.19.1 in /databricks/python3/lib/python3.12/site-packages (from SMOTE) (1.6.1)\nRequirement already satisfied: imbalanced-learn in /databricks/python3/lib/python3.12/site-packages (from imblearn) (0.13.0)\nRequirement already satisfied: scipy>=1.6.0 in /databricks/python3/lib/python3.12/site-packages (from scikit-learn>=0.19.1->SMOTE) (1.15.1)\nRequirement already satisfied: joblib>=1.2.0 in /databricks/python3/lib/python3.12/site-packages (from scikit-learn>=0.19.1->SMOTE) (1.4.2)\nRequirement already satisfied: threadpoolctl>=3.1.0 in /databricks/python3/lib/python3.12/site-packages (from scikit-learn>=0.19.1->SMOTE) (3.5.0)\nRequirement already satisfied: sklearn-compat<1,>=0.1 in /databricks/python3/lib/python3.12/site-packages (from imbalanced-learn->imblearn) (0.1.3)\nDownloading smote-0.1-py2.py3-none-any.whl (3.3 kB)\nDownloading imblearn-0.0-py2.py3-none-any.whl (1.9 kB)\nInstalling collected packages: SMOTE, imblearn\nSuccessfully installed SMOTE-0.1 imblearn-0.0\n\u001B[43mNote: you may need to restart the kernel using %restart_python or dbutils.library.restartPython() to use updated packages.\u001B[0m\n"
     ]
    }
   ],
   "source": [
    "pip install SMOTE imblearn"
   ]
  },
  {
   "cell_type": "code",
   "execution_count": 0,
   "metadata": {
    "application/vnd.databricks.v1+cell": {
     "cellMetadata": {
      "byteLimit": 2048000,
      "rowLimit": 10000
     },
     "inputWidgets": {},
     "nuid": "736c7d64-9c27-41a4-88ba-a76eea72c8be",
     "showTitle": false,
     "tableResultSettingsMap": {},
     "title": ""
    }
   },
   "outputs": [],
   "source": [
    "import pandas as pd\n",
    "import numpy as np\n",
    "import os\n",
    "import matplotlib.pyplot as plt\n",
    "import seaborn as sns\n",
    "from collections import Counter\n",
    "from sklearn.ensemble import RandomForestClassifier\n",
    "from pyspark.sql.functions import when, col, log1p, substring, trim, length\n",
    "from pyspark.sql import SparkSession\n",
    "from imblearn.over_sampling import SMOTE"
   ]
  },
  {
   "cell_type": "code",
   "execution_count": 0,
   "metadata": {
    "application/vnd.databricks.v1+cell": {
     "cellMetadata": {
      "byteLimit": 2048000,
      "rowLimit": 10000
     },
     "inputWidgets": {},
     "nuid": "60cf28fe-f9d8-4e0e-a3d5-5e7d8249e133",
     "showTitle": false,
     "tableResultSettingsMap": {},
     "title": ""
    }
   },
   "outputs": [
    {
     "output_type": "stream",
     "name": "stdout",
     "output_type": "stream",
     "text": [
      "Pastas criadas com sucesso em: dbfs:/FileStore/classification/astronomical_objects/\n\nEstrutura de pastas:\nBronze: dbfs:/FileStore/classification/astronomical_objects/bronze\nSilver: dbfs:/FileStore/classification/astronomical_objects/silver/balanceado\nArquivos esperados: objetos_estelares_Pt1.csv, objetos_estelares_Pt2.csv, objetos_estelares_tratado, objetos_estelares_balanceado\n"
     ]
    }
   ],
   "source": [
    "# Codigo para executar no DATABRICKS\n",
    "\n",
    "# Definir caminhos no DBFS\n",
    "base_path = \"dbfs:/FileStore/classification/astronomical_objects/\"\n",
    "pasta_bronze = f\"{base_path}bronze\"\n",
    "pasta_silver = f\"{base_path}silver/balanceado\"\n",
    "arquivo_pt1 = \"objetos_estelares_Pt1.csv\"\n",
    "arquivo_pt2 = \"objetos_estelares_Pt2.csv\"\n",
    "arquivo_tratado = \"objetos_estelares_tratado\"\n",
    "arquivo_balanceado = \"objetos_estelares_balanceado\"\n",
    "\n",
    "# Criar pastas usando dbutils\n",
    "try:\n",
    "    dbutils.fs.mkdirs(pasta_bronze)\n",
    "    dbutils.fs.mkdirs(pasta_silver)\n",
    "    print(f\"Pastas criadas com sucesso em: {base_path}\")\n",
    "except Exception as e:\n",
    "    print(f\"Erro ao criar pastas: {e}\")\n",
    "\n",
    "# Verificar estrutura criada\n",
    "print(\"\\nEstrutura de pastas:\")\n",
    "print(f\"Bronze: {pasta_bronze}\")\n",
    "print(f\"Silver: {pasta_silver}\")\n",
    "print(f\"Arquivos esperados: {arquivo_pt1}, {arquivo_pt2}, {arquivo_tratado}, {arquivo_balanceado}\")\n"
   ]
  },
  {
   "cell_type": "code",
   "execution_count": 0,
   "metadata": {
    "application/vnd.databricks.v1+cell": {
     "cellMetadata": {
      "byteLimit": 2048000,
      "rowLimit": 10000
     },
     "inputWidgets": {},
     "nuid": "c906ab80-8d8c-40fb-9e0f-ba396b681688",
     "showTitle": false,
     "tableResultSettingsMap": {},
     "title": ""
    },
    "id": "8kPDOuHx014m"
   },
   "outputs": [],
   "source": [
    " # Criar SparkSession\n",
    "spark = SparkSession.builder \\\n",
    "     .appName(\"TCC\") \\\n",
    "     .getOrCreate()\n",
    "\n",
    "# Lendo arquivos bruto\n",
    "df_pt1 = spark.read.csv(\n",
    "    pasta_bronze + \"/\" + arquivo_pt1,\n",
    "    header=True,\n",
    "    inferSchema=True,\n",
    ")\n",
    "\n",
    "df_pt2 = spark.read.csv(\n",
    "    pasta_bronze + \"/\" + arquivo_pt2,\n",
    "    header=True,\n",
    "    inferSchema=True,\n",
    ")\n",
    "\n",
    "# Unindo os 2 arquivos em 1 dataFrame consolidado\n",
    "df_total = df_pt1.union(df_pt2) # colunas e ordem iguais"
   ]
  },
  {
   "cell_type": "code",
   "execution_count": 0,
   "metadata": {
    "application/vnd.databricks.v1+cell": {
     "cellMetadata": {
      "byteLimit": 2048000,
      "rowLimit": 10000
     },
     "inputWidgets": {},
     "nuid": "4eff9695-cf52-456b-a59f-7ef1c3b92578",
     "showTitle": false,
     "tableResultSettingsMap": {},
     "title": ""
    },
    "colab": {
     "base_uri": "https://localhost:8080/"
    },
    "id": "Ak5XUQwli3kN",
    "outputId": "f5a75f8d-abd6-42ef-e83a-c359d3b493cc"
   },
   "outputs": [
    {
     "output_type": "stream",
     "name": "stdout",
     "output_type": "stream",
     "text": [
      "500000\n500000\n1000000\n"
     ]
    }
   ],
   "source": [
    "print(df_pt1.count())\n",
    "print(df_pt2.count())\n",
    "print(df_total.count())"
   ]
  },
  {
   "cell_type": "code",
   "execution_count": 0,
   "metadata": {
    "application/vnd.databricks.v1+cell": {
     "cellMetadata": {
      "byteLimit": 2048000,
      "rowLimit": 10000
     },
     "inputWidgets": {},
     "nuid": "a20f6b99-8d17-41b4-b0e9-c60ed559e994",
     "showTitle": false,
     "tableResultSettingsMap": {
      "0": {
       "dataGridStateBlob": "{\"version\":1,\"tableState\":{\"columnPinning\":{\"left\":[\"#row_number#\"],\"right\":[]},\"columnSizing\":{},\"columnVisibility\":{}},\"settings\":{\"columns\":{}},\"syncTimestamp\":1752505311145}",
       "filterBlob": null,
       "queryPlanFiltersBlob": null,
       "tableResultIndex": 0
      }
     },
     "title": ""
    }
   },
   "outputs": [
    {
     "output_type": "display_data",
     "data": {
      "text/html": [
       "<style scoped>\n",
       "  .table-result-container {\n",
       "    max-height: 300px;\n",
       "    overflow: auto;\n",
       "  }\n",
       "  table, th, td {\n",
       "    border: 1px solid black;\n",
       "    border-collapse: collapse;\n",
       "  }\n",
       "  th, td {\n",
       "    padding: 5px;\n",
       "  }\n",
       "  th {\n",
       "    text-align: left;\n",
       "  }\n",
       "</style><div class='table-result-container'><table class='table-result'><thead style='background-color: white'><tr><th>objid</th><th>ra</th><th>dec</th><th>u</th><th>g</th><th>r</th><th>i</th><th>z</th><th>run</th><th>rerun</th><th>camcol</th><th>field</th><th>specobjid</th><th>class</th><th>redshift</th><th>plate</th><th>mjd</th><th>fiberid</th></tr></thead><tbody><tr><td>1237663478721807796</td><td>333.1101</td><td>-0.4156123</td><td>23.68024</td><td>22.93109</td><td>22.38346</td><td>21.54711</td><td>21.80262</td><td>4192</td><td>301</td><td>3</td><td>176</td><td>1.039999E19</td><td>GALAXY</td><td>0.912237</td><td>9237</td><td>58022</td><td>202</td></tr><tr><td>1237650370484306247</td><td>185.3537</td><td>-2.581337</td><td>20.71064</td><td>20.22823</td><td>19.8522</td><td>19.59367</td><td>19.34152</td><td>1140</td><td>301</td><td>3</td><td>217</td><td>4.25255E18</td><td>QSO</td><td>2.875383</td><td>3777</td><td>55210</td><td>96</td></tr><tr><td>1237650370473951390</td><td>161.7517</td><td>-2.308346</td><td>24.64835</td><td>22.00048</td><td>21.63793</td><td>21.72727</td><td>22.06267</td><td>1140</td><td>301</td><td>3</td><td>59</td><td>4.262744E18</td><td>QSO</td><td>3.892739</td><td>3786</td><td>55563</td><td>316</td></tr><tr><td>1237662341093000137</td><td>253.5217</td><td>19.05752</td><td>21.94553</td><td>21.44538</td><td>19.54981</td><td>18.87251</td><td>18.44153</td><td>3927</td><td>301</td><td>4</td><td>186</td><td>4.705149E18</td><td>GALAXY</td><td>0.3766502</td><td>4179</td><td>55684</td><td>50</td></tr><tr><td>1237660961326432940</td><td>132.8209</td><td>30.8732</td><td>23.83978</td><td>22.87262</td><td>20.98026</td><td>19.61335</td><td>18.91918</td><td>3606</td><td>301</td><td>2</td><td>59</td><td>5.837809E18</td><td>GALAXY</td><td>0.7165546</td><td>5185</td><td>55978</td><td>63</td></tr></tbody></table></div>"
      ]
     },
     "metadata": {
      "application/vnd.databricks.v1+output": {
       "addedWidgets": {},
       "aggData": [],
       "aggError": "",
       "aggOverflow": false,
       "aggSchema": [],
       "aggSeriesLimitReached": false,
       "aggType": "",
       "arguments": {},
       "columnCustomDisplayInfos": {},
       "data": [
        [
         1237663478721807796,
         333.1101,
         -0.4156123,
         23.68024,
         22.93109,
         22.38346,
         21.54711,
         21.80262,
         4192,
         301,
         3,
         176,
         1.039999E19,
         "GALAXY",
         0.912237,
         9237,
         58022,
         202
        ],
        [
         1237650370484306247,
         185.3537,
         -2.581337,
         20.71064,
         20.22823,
         19.8522,
         19.59367,
         19.34152,
         1140,
         301,
         3,
         217,
         4.25255E18,
         "QSO",
         2.875383,
         3777,
         55210,
         96
        ],
        [
         1237650370473951390,
         161.7517,
         -2.308346,
         24.64835,
         22.00048,
         21.63793,
         21.72727,
         22.06267,
         1140,
         301,
         3,
         59,
         4.262744E18,
         "QSO",
         3.892739,
         3786,
         55563,
         316
        ],
        [
         1237662341093000137,
         253.5217,
         19.05752,
         21.94553,
         21.44538,
         19.54981,
         18.87251,
         18.44153,
         3927,
         301,
         4,
         186,
         4.705149E18,
         "GALAXY",
         0.3766502,
         4179,
         55684,
         50
        ],
        [
         1237660961326432940,
         132.8209,
         30.8732,
         23.83978,
         22.87262,
         20.98026,
         19.61335,
         18.91918,
         3606,
         301,
         2,
         59,
         5.837809E18,
         "GALAXY",
         0.7165546,
         5185,
         55978,
         63
        ]
       ],
       "datasetInfos": [],
       "dbfsResultPath": null,
       "isJsonSchema": true,
       "metadata": {},
       "overflow": false,
       "plotOptions": {
        "customPlotOptions": {},
        "displayType": "table",
        "pivotAggregation": null,
        "pivotColumns": null,
        "xColumns": null,
        "yColumns": null
       },
       "removedWidgets": [],
       "schema": [
        {
         "metadata": "{}",
         "name": "objid",
         "type": "\"long\""
        },
        {
         "metadata": "{}",
         "name": "ra",
         "type": "\"double\""
        },
        {
         "metadata": "{}",
         "name": "dec",
         "type": "\"double\""
        },
        {
         "metadata": "{}",
         "name": "u",
         "type": "\"double\""
        },
        {
         "metadata": "{}",
         "name": "g",
         "type": "\"double\""
        },
        {
         "metadata": "{}",
         "name": "r",
         "type": "\"double\""
        },
        {
         "metadata": "{}",
         "name": "i",
         "type": "\"double\""
        },
        {
         "metadata": "{}",
         "name": "z",
         "type": "\"double\""
        },
        {
         "metadata": "{}",
         "name": "run",
         "type": "\"integer\""
        },
        {
         "metadata": "{}",
         "name": "rerun",
         "type": "\"integer\""
        },
        {
         "metadata": "{}",
         "name": "camcol",
         "type": "\"integer\""
        },
        {
         "metadata": "{}",
         "name": "field",
         "type": "\"integer\""
        },
        {
         "metadata": "{}",
         "name": "specobjid",
         "type": "\"double\""
        },
        {
         "metadata": "{}",
         "name": "class",
         "type": "\"string\""
        },
        {
         "metadata": "{}",
         "name": "redshift",
         "type": "\"double\""
        },
        {
         "metadata": "{}",
         "name": "plate",
         "type": "\"integer\""
        },
        {
         "metadata": "{}",
         "name": "mjd",
         "type": "\"integer\""
        },
        {
         "metadata": "{}",
         "name": "fiberid",
         "type": "\"integer\""
        }
       ],
       "type": "table"
      }
     },
     "output_type": "display_data"
    }
   ],
   "source": [
    "# Salvando em dataframe temporario\n",
    "df_total.createOrReplaceTempView(\"temp_objects_all\")\n",
    "\n",
    "# Selecionando apenas as colunas necessárias\n",
    "# Nota: As colunas que foram eliminadas são os metadados dos espectros\n",
    "df_stars = spark.sql(\n",
    "\n",
    "    \"\"\"\n",
    "    SELECT *\n",
    "    FROM temp_objects_all\n",
    "    \"\"\"\n",
    ")\n",
    "\n",
    "display(df_stars.limit(5))"
   ]
  },
  {
   "cell_type": "code",
   "execution_count": 0,
   "metadata": {
    "application/vnd.databricks.v1+cell": {
     "cellMetadata": {
      "byteLimit": 2048000,
      "rowLimit": 10000
     },
     "inputWidgets": {},
     "nuid": "77834075-2783-4639-9456-185161266f8d",
     "showTitle": false,
     "tableResultSettingsMap": {},
     "title": ""
    }
   },
   "outputs": [],
   "source": [
    "# df_stars = df_stars.withColumn(\n",
    "#     \"subclass\",\n",
    "#     when(\n",
    "#         (length(trim(col(\"subclass\"))) <= 4), # Agrupando as classes que tem 4 letras ou menos\n",
    "#         substring(trim(col(\"subclass\")), 1, 1),\n",
    "#     ).otherwise(trim(col(\"subclass\")))\n",
    "# )\n",
    "\n",
    "# # Agrupa e ordena do mais frequente para o menos frequente\n",
    "# df_stars.groupBy(\"subclass\").count().orderBy(\"count\", ascending=False).show()\n"
   ]
  },
  {
   "cell_type": "code",
   "execution_count": 0,
   "metadata": {
    "application/vnd.databricks.v1+cell": {
     "cellMetadata": {
      "byteLimit": 2048000,
      "rowLimit": 10000
     },
     "inputWidgets": {},
     "nuid": "2fdea2cd-9034-4ed2-9dcc-080276cfd056",
     "showTitle": false,
     "tableResultSettingsMap": {},
     "title": ""
    },
    "id": "C06Qtuq2uLsn"
   },
   "outputs": [],
   "source": [
    "# Astrônomos frequentemente usam índices de cor como u-g, g-r, r-i, i-z, que representam a diferença de magnitude entre bandas. \n",
    "# Essas diferenças estão associadas à temperatura e composição da estrela.\n",
    "\n",
    "# 1. Diferenças de Magnitudes (Cores)\n",
    "# Aplicando regra de \"índices de cor\"\n",
    "df = df_stars.withColumn(\"u_g\", col(\"u\") - col(\"g\")) \\\n",
    "             .withColumn(\"g_r\", col(\"g\") - col(\"r\")) \\\n",
    "             .withColumn(\"r_i\", col(\"r\") - col(\"i\")) \\\n",
    "             .withColumn(\"i_z\", col(\"i\") - col(\"z\"))"
   ]
  },
  {
   "cell_type": "code",
   "execution_count": 0,
   "metadata": {
    "application/vnd.databricks.v1+cell": {
     "cellMetadata": {
      "byteLimit": 2048000,
      "rowLimit": 10000
     },
     "inputWidgets": {},
     "nuid": "245924d3-a083-4342-bad1-7bcdccc6e619",
     "showTitle": false,
     "tableResultSettingsMap": {},
     "title": ""
    }
   },
   "outputs": [
    {
     "output_type": "execute_result",
     "data": {
      "text/plain": [
       "1000000"
      ]
     },
     "execution_count": 10,
     "metadata": {},
     "output_type": "execute_result"
    }
   ],
   "source": [
    "df.count()"
   ]
  },
  {
   "cell_type": "code",
   "execution_count": 0,
   "metadata": {
    "application/vnd.databricks.v1+cell": {
     "cellMetadata": {
      "byteLimit": 2048000,
      "rowLimit": 10000
     },
     "inputWidgets": {},
     "nuid": "c48d906c-5e8b-4a23-baf2-d54ecacd3bf5",
     "showTitle": false,
     "tableResultSettingsMap": {},
     "title": ""
    },
    "colab": {
     "base_uri": "https://localhost:8080/",
     "height": 300
    },
    "id": "t5lAT1eECsVe",
    "outputId": "f156ad6d-2264-4d1b-ee70-cbd46f3fc6b7"
   },
   "outputs": [
    {
     "output_type": "execute_result",
     "data": {
      "text/html": [
       "<div>\n",
       "<style scoped>\n",
       "    .dataframe tbody tr th:only-of-type {\n",
       "        vertical-align: middle;\n",
       "    }\n",
       "\n",
       "    .dataframe tbody tr th {\n",
       "        vertical-align: top;\n",
       "    }\n",
       "\n",
       "    .dataframe thead th {\n",
       "        text-align: right;\n",
       "    }\n",
       "</style>\n",
       "<table border=\"1\" class=\"dataframe\">\n",
       "  <thead>\n",
       "    <tr style=\"text-align: right;\">\n",
       "      <th></th>\n",
       "      <th>objid</th>\n",
       "      <th>ra</th>\n",
       "      <th>dec</th>\n",
       "      <th>u</th>\n",
       "      <th>g</th>\n",
       "      <th>r</th>\n",
       "      <th>i</th>\n",
       "      <th>z</th>\n",
       "      <th>run</th>\n",
       "      <th>rerun</th>\n",
       "      <th>camcol</th>\n",
       "      <th>field</th>\n",
       "      <th>specobjid</th>\n",
       "      <th>redshift</th>\n",
       "      <th>plate</th>\n",
       "      <th>mjd</th>\n",
       "      <th>fiberid</th>\n",
       "      <th>u_g</th>\n",
       "      <th>g_r</th>\n",
       "      <th>r_i</th>\n",
       "      <th>i_z</th>\n",
       "    </tr>\n",
       "  </thead>\n",
       "  <tbody>\n",
       "    <tr>\n",
       "      <th>count</th>\n",
       "      <td>1.000000e+06</td>\n",
       "      <td>1000000.000000</td>\n",
       "      <td>1000000.000000</td>\n",
       "      <td>1000000.000000</td>\n",
       "      <td>1000000.000000</td>\n",
       "      <td>1000000.000000</td>\n",
       "      <td>1000000.000000</td>\n",
       "      <td>1000000.000000</td>\n",
       "      <td>1000000.000000</td>\n",
       "      <td>1000000.0</td>\n",
       "      <td>1000000.000000</td>\n",
       "      <td>1000000.000000</td>\n",
       "      <td>1.000000e+06</td>\n",
       "      <td>1000000.000000</td>\n",
       "      <td>1000000.000000</td>\n",
       "      <td>1000000.000000</td>\n",
       "      <td>1000000.000000</td>\n",
       "      <td>1000000.000000</td>\n",
       "      <td>1000000.000000</td>\n",
       "      <td>1000000.000000</td>\n",
       "      <td>1000000.000000</td>\n",
       "    </tr>\n",
       "    <tr>\n",
       "      <th>mean</th>\n",
       "      <td>1.237668e+18</td>\n",
       "      <td>163.988444</td>\n",
       "      <td>20.216662</td>\n",
       "      <td>21.557787</td>\n",
       "      <td>20.140091</td>\n",
       "      <td>19.267326</td>\n",
       "      <td>18.656588</td>\n",
       "      <td>18.311960</td>\n",
       "      <td>5288.795266</td>\n",
       "      <td>301.0</td>\n",
       "      <td>3.316084</td>\n",
       "      <td>179.121561</td>\n",
       "      <td>5.795723e+18</td>\n",
       "      <td>0.571702</td>\n",
       "      <td>5147.527242</td>\n",
       "      <td>55622.171717</td>\n",
       "      <td>445.856001</td>\n",
       "      <td>1.417696</td>\n",
       "      <td>0.872765</td>\n",
       "      <td>0.610738</td>\n",
       "      <td>0.344628</td>\n",
       "    </tr>\n",
       "    <tr>\n",
       "      <th>std</th>\n",
       "      <td>8.511905e+12</td>\n",
       "      <td>104.275382</td>\n",
       "      <td>19.604599</td>\n",
       "      <td>70.894225</td>\n",
       "      <td>69.447619</td>\n",
       "      <td>60.969422</td>\n",
       "      <td>64.947858</td>\n",
       "      <td>67.223533</td>\n",
       "      <td>1981.830741</td>\n",
       "      <td>0.0</td>\n",
       "      <td>1.620920</td>\n",
       "      <td>136.933071</td>\n",
       "      <td>3.360872e+18</td>\n",
       "      <td>0.726588</td>\n",
       "      <td>2985.036730</td>\n",
       "      <td>1812.453364</td>\n",
       "      <td>273.328062</td>\n",
       "      <td>14.218792</td>\n",
       "      <td>33.232370</td>\n",
       "      <td>22.401601</td>\n",
       "      <td>26.502114</td>\n",
       "    </tr>\n",
       "    <tr>\n",
       "      <th>min</th>\n",
       "      <td>1.237646e+18</td>\n",
       "      <td>0.000095</td>\n",
       "      <td>-19.702720</td>\n",
       "      <td>-9999.000000</td>\n",
       "      <td>-9999.000000</td>\n",
       "      <td>-9999.000000</td>\n",
       "      <td>-9999.000000</td>\n",
       "      <td>-9999.000000</td>\n",
       "      <td>109.000000</td>\n",
       "      <td>301.0</td>\n",
       "      <td>1.000000</td>\n",
       "      <td>11.000000</td>\n",
       "      <td>2.994897e+17</td>\n",
       "      <td>-0.011447</td>\n",
       "      <td>266.000000</td>\n",
       "      <td>51578.000000</td>\n",
       "      <td>1.000000</td>\n",
       "      <td>-10018.688630</td>\n",
       "      <td>-10018.536000</td>\n",
       "      <td>-15.859360</td>\n",
       "      <td>-10015.956800</td>\n",
       "    </tr>\n",
       "    <tr>\n",
       "      <th>25%</th>\n",
       "      <td>1.237662e+18</td>\n",
       "      <td>98.125173</td>\n",
       "      <td>3.307738</td>\n",
       "      <td>20.320847</td>\n",
       "      <td>18.915225</td>\n",
       "      <td>18.081195</td>\n",
       "      <td>17.685660</td>\n",
       "      <td>17.424540</td>\n",
       "      <td>3805.000000</td>\n",
       "      <td>301.0</td>\n",
       "      <td>2.000000</td>\n",
       "      <td>79.000000</td>\n",
       "      <td>3.008570e+18</td>\n",
       "      <td>0.039575</td>\n",
       "      <td>2672.000000</td>\n",
       "      <td>54401.000000</td>\n",
       "      <td>215.000000</td>\n",
       "      <td>0.628650</td>\n",
       "      <td>0.385470</td>\n",
       "      <td>0.216110</td>\n",
       "      <td>0.129227</td>\n",
       "    </tr>\n",
       "    <tr>\n",
       "      <th>50%</th>\n",
       "      <td>1.237670e+18</td>\n",
       "      <td>160.804150</td>\n",
       "      <td>15.459035</td>\n",
       "      <td>22.174455</td>\n",
       "      <td>21.096930</td>\n",
       "      <td>20.125555</td>\n",
       "      <td>19.411040</td>\n",
       "      <td>19.011205</td>\n",
       "      <td>5684.000000</td>\n",
       "      <td>301.0</td>\n",
       "      <td>3.000000</td>\n",
       "      <td>146.000000</td>\n",
       "      <td>5.302132e+18</td>\n",
       "      <td>0.425778</td>\n",
       "      <td>4709.000000</td>\n",
       "      <td>55825.000000</td>\n",
       "      <td>426.000000</td>\n",
       "      <td>1.321860</td>\n",
       "      <td>0.911480</td>\n",
       "      <td>0.479270</td>\n",
       "      <td>0.336260</td>\n",
       "    </tr>\n",
       "    <tr>\n",
       "      <th>75%</th>\n",
       "      <td>1.237675e+18</td>\n",
       "      <td>227.460300</td>\n",
       "      <td>34.815600</td>\n",
       "      <td>23.675073</td>\n",
       "      <td>22.168053</td>\n",
       "      <td>21.080433</td>\n",
       "      <td>20.427790</td>\n",
       "      <td>19.940970</td>\n",
       "      <td>6794.000000</td>\n",
       "      <td>301.0</td>\n",
       "      <td>5.000000</td>\n",
       "      <td>238.000000</td>\n",
       "      <td>8.555757e+18</td>\n",
       "      <td>0.716287</td>\n",
       "      <td>7599.000000</td>\n",
       "      <td>56980.000000</td>\n",
       "      <td>644.000000</td>\n",
       "      <td>2.028780</td>\n",
       "      <td>1.575873</td>\n",
       "      <td>0.888930</td>\n",
       "      <td>0.473540</td>\n",
       "    </tr>\n",
       "    <tr>\n",
       "      <th>max</th>\n",
       "      <td>1.237679e+18</td>\n",
       "      <td>359.999800</td>\n",
       "      <td>84.852150</td>\n",
       "      <td>33.450420</td>\n",
       "      <td>31.602240</td>\n",
       "      <td>31.990100</td>\n",
       "      <td>32.141470</td>\n",
       "      <td>30.303890</td>\n",
       "      <td>7770.000000</td>\n",
       "      <td>301.0</td>\n",
       "      <td>6.000000</td>\n",
       "      <td>1000.000000</td>\n",
       "      <td>1.412694e+19</td>\n",
       "      <td>7.051930</td>\n",
       "      <td>12547.000000</td>\n",
       "      <td>58932.000000</td>\n",
       "      <td>1000.000000</td>\n",
       "      <td>18.624950</td>\n",
       "      <td>14.623160</td>\n",
       "      <td>10018.536000</td>\n",
       "      <td>10017.225990</td>\n",
       "    </tr>\n",
       "  </tbody>\n",
       "</table>\n",
       "</div>"
      ],
      "text/plain": [
       "              objid              ra  ...             r_i             i_z\n",
       "count  1.000000e+06  1000000.000000  ...  1000000.000000  1000000.000000\n",
       "mean   1.237668e+18      163.988444  ...        0.610738        0.344628\n",
       "std    8.511905e+12      104.275382  ...       22.401601       26.502114\n",
       "min    1.237646e+18        0.000095  ...      -15.859360   -10015.956800\n",
       "25%    1.237662e+18       98.125173  ...        0.216110        0.129227\n",
       "50%    1.237670e+18      160.804150  ...        0.479270        0.336260\n",
       "75%    1.237675e+18      227.460300  ...        0.888930        0.473540\n",
       "max    1.237679e+18      359.999800  ...    10018.536000    10017.225990\n",
       "\n",
       "[8 rows x 21 columns]"
      ]
     },
     "execution_count": 11,
     "metadata": {},
     "output_type": "execute_result"
    }
   ],
   "source": [
    "df_pd = df.toPandas()\n",
    "\n",
    "df_pd.describe()"
   ]
  },
  {
   "cell_type": "code",
   "execution_count": 0,
   "metadata": {
    "application/vnd.databricks.v1+cell": {
     "cellMetadata": {
      "byteLimit": 2048000,
      "rowLimit": 10000
     },
     "inputWidgets": {},
     "nuid": "696c0dcd-4657-4547-a515-ef418659aac4",
     "showTitle": false,
     "tableResultSettingsMap": {},
     "title": ""
    },
    "id": "mFC3GjT4CkJN"
   },
   "outputs": [],
   "source": [
    "# Substitui -9999 e '-9999' por null nas colunas apropriadas\n",
    "for column_name, column_type in df.dtypes:\n",
    "    if column_type in ['int', 'bigint', 'double', 'float']:\n",
    "        df = df.withColumn(column_name, when(col(column_name) == -9999, None).otherwise(col(column_name)))\n",
    "    elif column_type == 'string':\n",
    "        df = df.withColumn(column_name, when(col(column_name) == '-9999', None).otherwise(col(column_name)))\n",
    "\n",
    "# Lista de colunas a tratar\n",
    "cols = df.columns\n",
    "\n",
    "# Dropa so nulos tratados acima\n",
    "df = df.dropna(subset=cols)"
   ]
  },
  {
   "cell_type": "code",
   "execution_count": 0,
   "metadata": {
    "application/vnd.databricks.v1+cell": {
     "cellMetadata": {
      "byteLimit": 2048000,
      "rowLimit": 10000
     },
     "inputWidgets": {},
     "nuid": "a7891347-6902-4442-8079-7827d87ef27c",
     "showTitle": false,
     "tableResultSettingsMap": {},
     "title": ""
    },
    "colab": {
     "base_uri": "https://localhost:8080/",
     "height": 300
    },
    "id": "QtCq6cs5Cptf",
    "outputId": "057264cc-53ee-463f-c292-875378499c11"
   },
   "outputs": [
    {
     "output_type": "execute_result",
     "data": {
      "text/html": [
       "<div>\n",
       "<style scoped>\n",
       "    .dataframe tbody tr th:only-of-type {\n",
       "        vertical-align: middle;\n",
       "    }\n",
       "\n",
       "    .dataframe tbody tr th {\n",
       "        vertical-align: top;\n",
       "    }\n",
       "\n",
       "    .dataframe thead th {\n",
       "        text-align: right;\n",
       "    }\n",
       "</style>\n",
       "<table border=\"1\" class=\"dataframe\">\n",
       "  <thead>\n",
       "    <tr style=\"text-align: right;\">\n",
       "      <th></th>\n",
       "      <th>objid</th>\n",
       "      <th>ra</th>\n",
       "      <th>dec</th>\n",
       "      <th>u</th>\n",
       "      <th>g</th>\n",
       "      <th>r</th>\n",
       "      <th>i</th>\n",
       "      <th>z</th>\n",
       "      <th>run</th>\n",
       "      <th>rerun</th>\n",
       "      <th>camcol</th>\n",
       "      <th>field</th>\n",
       "      <th>specobjid</th>\n",
       "      <th>redshift</th>\n",
       "      <th>plate</th>\n",
       "      <th>mjd</th>\n",
       "      <th>fiberid</th>\n",
       "      <th>u_g</th>\n",
       "      <th>g_r</th>\n",
       "      <th>r_i</th>\n",
       "      <th>i_z</th>\n",
       "    </tr>\n",
       "  </thead>\n",
       "  <tbody>\n",
       "    <tr>\n",
       "      <th>count</th>\n",
       "      <td>9.999490e+05</td>\n",
       "      <td>999949.000000</td>\n",
       "      <td>999949.000000</td>\n",
       "      <td>999949.000000</td>\n",
       "      <td>999949.000000</td>\n",
       "      <td>999949.000000</td>\n",
       "      <td>999949.000000</td>\n",
       "      <td>999949.000000</td>\n",
       "      <td>999949.000000</td>\n",
       "      <td>999949.0</td>\n",
       "      <td>999949.000000</td>\n",
       "      <td>999949.000000</td>\n",
       "      <td>9.999490e+05</td>\n",
       "      <td>999949.000000</td>\n",
       "      <td>999949.000000</td>\n",
       "      <td>999949.000000</td>\n",
       "      <td>999949.000000</td>\n",
       "      <td>999949.000000</td>\n",
       "      <td>999949.000000</td>\n",
       "      <td>999949.000000</td>\n",
       "      <td>999949.000000</td>\n",
       "    </tr>\n",
       "    <tr>\n",
       "      <th>mean</th>\n",
       "      <td>1.237668e+18</td>\n",
       "      <td>163.986944</td>\n",
       "      <td>20.217676</td>\n",
       "      <td>22.058846</td>\n",
       "      <td>20.621041</td>\n",
       "      <td>19.638047</td>\n",
       "      <td>19.077366</td>\n",
       "      <td>18.762775</td>\n",
       "      <td>5289.013175</td>\n",
       "      <td>301.0</td>\n",
       "      <td>3.316131</td>\n",
       "      <td>179.109581</td>\n",
       "      <td>5.795944e+18</td>\n",
       "      <td>0.571723</td>\n",
       "      <td>5147.723666</td>\n",
       "      <td>55622.311127</td>\n",
       "      <td>445.869039</td>\n",
       "      <td>1.437805</td>\n",
       "      <td>0.982995</td>\n",
       "      <td>0.560681</td>\n",
       "      <td>0.314591</td>\n",
       "    </tr>\n",
       "    <tr>\n",
       "      <th>std</th>\n",
       "      <td>8.511069e+12</td>\n",
       "      <td>104.277187</td>\n",
       "      <td>19.604544</td>\n",
       "      <td>2.270759</td>\n",
       "      <td>2.084186</td>\n",
       "      <td>1.897150</td>\n",
       "      <td>1.788425</td>\n",
       "      <td>1.789291</td>\n",
       "      <td>1981.636113</td>\n",
       "      <td>0.0</td>\n",
       "      <td>1.620923</td>\n",
       "      <td>136.923555</td>\n",
       "      <td>3.360799e+18</td>\n",
       "      <td>0.726596</td>\n",
       "      <td>2984.971564</td>\n",
       "      <td>1812.368588</td>\n",
       "      <td>273.327319</td>\n",
       "      <td>1.173797</td>\n",
       "      <td>0.727301</td>\n",
       "      <td>0.484389</td>\n",
       "      <td>0.415980</td>\n",
       "    </tr>\n",
       "    <tr>\n",
       "      <th>min</th>\n",
       "      <td>1.237646e+18</td>\n",
       "      <td>0.000095</td>\n",
       "      <td>-19.702720</td>\n",
       "      <td>10.541810</td>\n",
       "      <td>9.668339</td>\n",
       "      <td>9.005167</td>\n",
       "      <td>8.848403</td>\n",
       "      <td>8.947795</td>\n",
       "      <td>109.000000</td>\n",
       "      <td>301.0</td>\n",
       "      <td>1.000000</td>\n",
       "      <td>11.000000</td>\n",
       "      <td>2.994897e+17</td>\n",
       "      <td>-0.011447</td>\n",
       "      <td>266.000000</td>\n",
       "      <td>51578.000000</td>\n",
       "      <td>1.000000</td>\n",
       "      <td>-15.151770</td>\n",
       "      <td>-14.784580</td>\n",
       "      <td>-15.859360</td>\n",
       "      <td>-16.035620</td>\n",
       "    </tr>\n",
       "    <tr>\n",
       "      <th>25%</th>\n",
       "      <td>1.237662e+18</td>\n",
       "      <td>98.111950</td>\n",
       "      <td>3.308263</td>\n",
       "      <td>20.321120</td>\n",
       "      <td>18.915580</td>\n",
       "      <td>18.081820</td>\n",
       "      <td>17.686000</td>\n",
       "      <td>17.424780</td>\n",
       "      <td>3805.000000</td>\n",
       "      <td>301.0</td>\n",
       "      <td>2.000000</td>\n",
       "      <td>79.000000</td>\n",
       "      <td>3.008576e+18</td>\n",
       "      <td>0.039595</td>\n",
       "      <td>2672.000000</td>\n",
       "      <td>54409.000000</td>\n",
       "      <td>215.000000</td>\n",
       "      <td>0.628800</td>\n",
       "      <td>0.385530</td>\n",
       "      <td>0.216130</td>\n",
       "      <td>0.129260</td>\n",
       "    </tr>\n",
       "    <tr>\n",
       "      <th>50%</th>\n",
       "      <td>1.237670e+18</td>\n",
       "      <td>160.799100</td>\n",
       "      <td>15.460640</td>\n",
       "      <td>22.174670</td>\n",
       "      <td>21.097040</td>\n",
       "      <td>20.125670</td>\n",
       "      <td>19.411130</td>\n",
       "      <td>19.011310</td>\n",
       "      <td>5714.000000</td>\n",
       "      <td>301.0</td>\n",
       "      <td>3.000000</td>\n",
       "      <td>146.000000</td>\n",
       "      <td>5.303028e+18</td>\n",
       "      <td>0.425809</td>\n",
       "      <td>4710.000000</td>\n",
       "      <td>55825.000000</td>\n",
       "      <td>426.000000</td>\n",
       "      <td>1.321930</td>\n",
       "      <td>0.911530</td>\n",
       "      <td>0.479280</td>\n",
       "      <td>0.336270</td>\n",
       "    </tr>\n",
       "    <tr>\n",
       "      <th>75%</th>\n",
       "      <td>1.237675e+18</td>\n",
       "      <td>227.461800</td>\n",
       "      <td>34.816300</td>\n",
       "      <td>23.675130</td>\n",
       "      <td>22.168100</td>\n",
       "      <td>21.080490</td>\n",
       "      <td>20.427850</td>\n",
       "      <td>19.941020</td>\n",
       "      <td>6794.000000</td>\n",
       "      <td>301.0</td>\n",
       "      <td>5.000000</td>\n",
       "      <td>238.000000</td>\n",
       "      <td>8.555762e+18</td>\n",
       "      <td>0.716298</td>\n",
       "      <td>7599.000000</td>\n",
       "      <td>56980.000000</td>\n",
       "      <td>644.000000</td>\n",
       "      <td>2.028800</td>\n",
       "      <td>1.575900</td>\n",
       "      <td>0.888940</td>\n",
       "      <td>0.473540</td>\n",
       "    </tr>\n",
       "    <tr>\n",
       "      <th>max</th>\n",
       "      <td>1.237679e+18</td>\n",
       "      <td>359.999800</td>\n",
       "      <td>84.852150</td>\n",
       "      <td>33.450420</td>\n",
       "      <td>31.602240</td>\n",
       "      <td>31.990100</td>\n",
       "      <td>32.141470</td>\n",
       "      <td>30.303890</td>\n",
       "      <td>7770.000000</td>\n",
       "      <td>301.0</td>\n",
       "      <td>6.000000</td>\n",
       "      <td>1000.000000</td>\n",
       "      <td>1.412694e+19</td>\n",
       "      <td>7.051930</td>\n",
       "      <td>12547.000000</td>\n",
       "      <td>58932.000000</td>\n",
       "      <td>1000.000000</td>\n",
       "      <td>18.624950</td>\n",
       "      <td>14.623160</td>\n",
       "      <td>16.745810</td>\n",
       "      <td>16.548340</td>\n",
       "    </tr>\n",
       "  </tbody>\n",
       "</table>\n",
       "</div>"
      ],
      "text/plain": [
       "              objid             ra  ...            r_i            i_z\n",
       "count  9.999490e+05  999949.000000  ...  999949.000000  999949.000000\n",
       "mean   1.237668e+18     163.986944  ...       0.560681       0.314591\n",
       "std    8.511069e+12     104.277187  ...       0.484389       0.415980\n",
       "min    1.237646e+18       0.000095  ...     -15.859360     -16.035620\n",
       "25%    1.237662e+18      98.111950  ...       0.216130       0.129260\n",
       "50%    1.237670e+18     160.799100  ...       0.479280       0.336270\n",
       "75%    1.237675e+18     227.461800  ...       0.888940       0.473540\n",
       "max    1.237679e+18     359.999800  ...      16.745810      16.548340\n",
       "\n",
       "[8 rows x 21 columns]"
      ]
     },
     "execution_count": 13,
     "metadata": {},
     "output_type": "execute_result"
    }
   ],
   "source": [
    "df_pd = df.toPandas()\n",
    "\n",
    "df_pd.describe()"
   ]
  },
  {
   "cell_type": "code",
   "execution_count": 0,
   "metadata": {
    "application/vnd.databricks.v1+cell": {
     "cellMetadata": {
      "byteLimit": 2048000,
      "rowLimit": 10000
     },
     "inputWidgets": {},
     "nuid": "8996f665-69a5-49bb-abf5-1bc3ff996fa4",
     "showTitle": false,
     "tableResultSettingsMap": {},
     "title": ""
    }
   },
   "outputs": [
    {
     "output_type": "execute_result",
     "data": {
      "text/plain": [
       "999949"
      ]
     },
     "execution_count": 14,
     "metadata": {},
     "output_type": "execute_result"
    }
   ],
   "source": [
    "df.count()"
   ]
  },
  {
   "cell_type": "markdown",
   "metadata": {
    "application/vnd.databricks.v1+cell": {
     "cellMetadata": {},
     "inputWidgets": {},
     "nuid": "29c84387-ea8b-41ab-9e02-3a7baf8baa0c",
     "showTitle": false,
     "tableResultSettingsMap": {},
     "title": ""
    }
   },
   "source": [
    "#### Salvando arquivo parquet no diretorio TRATADO"
   ]
  },
  {
   "cell_type": "code",
   "execution_count": 0,
   "metadata": {
    "application/vnd.databricks.v1+cell": {
     "cellMetadata": {
      "byteLimit": 2048000,
      "rowLimit": 10000
     },
     "inputWidgets": {},
     "nuid": "e60b3a2f-1ef5-4ea4-a453-99083472b4f2",
     "showTitle": false,
     "tableResultSettingsMap": {},
     "title": ""
    }
   },
   "outputs": [
    {
     "output_type": "stream",
     "name": "stdout",
     "output_type": "stream",
     "text": [
      "dbfs:/FileStore/classification/astronomical_objects/silver/balanceado/objetos_estelares_tratado\n"
     ]
    }
   ],
   "source": [
    "caminho_completo_tratado = pasta_silver + \"/\" + arquivo_tratado\n",
    "print(caminho_completo_tratado)\n",
    "\n",
    "# salvar em parquet \n",
    "df.coalesce(1).write.mode(\"overwrite\").parquet(caminho_completo_tratado)"
   ]
  },
  {
   "cell_type": "markdown",
   "metadata": {
    "application/vnd.databricks.v1+cell": {
     "cellMetadata": {},
     "inputWidgets": {},
     "nuid": "f089c1cb-216d-4d47-bf04-825256a4c9ee",
     "showTitle": false,
     "tableResultSettingsMap": {},
     "title": ""
    }
   },
   "source": [
    "\n",
    "#### Feature Enginering"
   ]
  },
  {
   "cell_type": "code",
   "execution_count": 0,
   "metadata": {
    "application/vnd.databricks.v1+cell": {
     "cellMetadata": {
      "byteLimit": 2048000,
      "rowLimit": 10000
     },
     "inputWidgets": {},
     "nuid": "36c7d596-0506-41e7-ab5d-d6414b496826",
     "showTitle": false,
     "tableResultSettingsMap": {},
     "title": ""
    }
   },
   "outputs": [
    {
     "output_type": "execute_result",
     "data": {
      "text/plain": [
       "Index(['objid', 'ra', 'dec', 'u', 'g', 'r', 'i', 'z', 'run', 'rerun', 'camcol',\n",
       "       'field', 'specobjid', 'redshift', 'plate', 'mjd', 'fiberid', 'u_g',\n",
       "       'g_r', 'r_i', 'i_z'],\n",
       "      dtype='object')"
      ]
     },
     "execution_count": 17,
     "metadata": {},
     "output_type": "execute_result"
    }
   ],
   "source": [
    "# Etapa 3: Separar features e rótulos\n",
    "X = df_pd.drop(\"class\",axis=1)\n",
    "y = df_pd[\"class\"]\n",
    "\n",
    "X.columns"
   ]
  },
  {
   "cell_type": "code",
   "execution_count": 0,
   "metadata": {
    "application/vnd.databricks.v1+cell": {
     "cellMetadata": {
      "byteLimit": 2048000,
      "rowLimit": 10000
     },
     "inputWidgets": {},
     "nuid": "646e922f-c314-42a3-86d7-9b0037362e23",
     "showTitle": false,
     "tableResultSettingsMap": {},
     "title": ""
    }
   },
   "outputs": [
    {
     "output_type": "display_data",
     "data": {
      "application/vnd.jupyter.widget-view+json": {
       "model_id": "371c7a67b89e48538d4fd7d3d3ba9e3c",
       "version_major": 2,
       "version_minor": 0
      },
      "text/plain": [
       "Uploading artifacts:   0%|          | 0/1 [00:00<?, ?it/s]"
      ]
     },
     "metadata": {},
     "output_type": "display_data"
    }
   ],
   "source": [
    "# Suponha que X seja seu dataframe de features e y a variável alvo (ex: 'class' ou 'subclass')\n",
    "model = RandomForestClassifier(n_estimators=100, n_jobs=-1)\n",
    "model.fit(X, y)\n",
    "\n",
    "# Pegando importâncias\n",
    "importances = model.feature_importances_"
   ]
  },
  {
   "cell_type": "code",
   "execution_count": 0,
   "metadata": {
    "application/vnd.databricks.v1+cell": {
     "cellMetadata": {
      "byteLimit": 2048000,
      "rowLimit": 10000
     },
     "inputWidgets": {},
     "nuid": "08d49c91-2f0b-4aa1-af4a-aa1ecdcd29bf",
     "showTitle": false,
     "tableResultSettingsMap": {},
     "title": ""
    }
   },
   "outputs": [
    {
     "output_type": "display_data",
     "data": {
      "image/png": "[encoded data removed]",
      "text/plain": [
       "<Figure size 1000x400 with 1 Axes>"
      ]
     },
     "metadata": {},
     "output_type": "display_data"
    }
   ],
   "source": [
    "# Criando um dataframe organizado\n",
    "feat_importance = pd.DataFrame({\n",
    "    'Feature': X.columns,\n",
    "    'Importance': importances\n",
    "}).sort_values(by='Importance', ascending=False)\n",
    "\n",
    "# Visualizando\n",
    "plt.figure(figsize=(10, 4))\n",
    "sns.barplot(data=feat_importance.head(10), x='Importance', y='Feature')\n",
    "plt.title(\"Top 10 Features mais importantes\")\n",
    "plt.tight_layout()\n",
    "plt.show()\n"
   ]
  },
  {
   "cell_type": "code",
   "execution_count": 0,
   "metadata": {
    "application/vnd.databricks.v1+cell": {
     "cellMetadata": {
      "byteLimit": 2048000,
      "rowLimit": 10000
     },
     "inputWidgets": {},
     "nuid": "61ff0a5f-0e4c-4dc3-b184-8ec01a86db70",
     "showTitle": false,
     "tableResultSettingsMap": {},
     "title": ""
    }
   },
   "outputs": [
    {
     "output_type": "stream",
     "name": "stdout",
     "output_type": "stream",
     "text": [
      "['redshift', 'r_i', 'g_r', 'u_g', 'i_z', 'g', 'class']\n"
     ]
    }
   ],
   "source": [
    "# Registrar as 6 features mais importantes + a classe\n",
    "lista_features = feat_importance.head(6)['Feature'].tolist() + ['class']\n",
    "print(lista_features)  \n",
    "\n",
    "# Selecionar features\n",
    "df = df.select(lista_features)"
   ]
  },
  {
   "cell_type": "code",
   "execution_count": 0,
   "metadata": {
    "application/vnd.databricks.v1+cell": {
     "cellMetadata": {
      "byteLimit": 2048000,
      "rowLimit": 10000
     },
     "inputWidgets": {},
     "nuid": "0a734e13-d355-48e1-a249-55f54477159c",
     "showTitle": false,
     "tableResultSettingsMap": {},
     "title": ""
    }
   },
   "outputs": [],
   "source": [
    "# df spark para df pandas\n",
    "df_pd = df.toPandas()"
   ]
  },
  {
   "cell_type": "code",
   "execution_count": 0,
   "metadata": {
    "application/vnd.databricks.v1+cell": {
     "cellMetadata": {
      "byteLimit": 2048000,
      "rowLimit": 10000
     },
     "inputWidgets": {},
     "nuid": "cf210436-46c9-4dcc-8b67-d192025a82cb",
     "showTitle": false,
     "tableResultSettingsMap": {},
     "title": ""
    },
    "colab": {
     "base_uri": "https://localhost:8080/",
     "height": 468
    },
    "id": "gikeVAopBI6H",
    "outputId": "8711bdce-c96f-4bb8-c35e-9312a44458cd"
   },
   "outputs": [
    {
     "output_type": "display_data",
     "data": {
      "image/png": "[encoded data removed]",
      "text/plain": [
       "<Figure size 1000x400 with 1 Axes>"
      ]
     },
     "metadata": {},
     "output_type": "display_data"
    }
   ],
   "source": [
    "# Ordenar os rótulos da coluna 'subclass' pela contagem (do maior para o menor)\n",
    "order = df_pd['class'].value_counts().index\n",
    "\n",
    "# Plot com ordem definida\n",
    "plt.figure(figsize=(10, 4))\n",
    "sns.countplot(data=df_pd, x='class', order=order)\n",
    "plt.title(\"Distribuição das classes\")\n",
    "plt.xlabel(\"Classe\")\n",
    "plt.ylabel(\"Contagem\")\n",
    "plt.xticks(rotation=90)  # Roda os rótulos se tiver muitos\n",
    "plt.tight_layout()\n",
    "plt.show()"
   ]
  },
  {
   "cell_type": "code",
   "execution_count": 0,
   "metadata": {
    "application/vnd.databricks.v1+cell": {
     "cellMetadata": {
      "byteLimit": 2048000,
      "rowLimit": 10000
     },
     "inputWidgets": {},
     "nuid": "31ae65fe-bcb4-4ef1-9aa2-9099b9684f9e",
     "showTitle": false,
     "tableResultSettingsMap": {},
     "title": ""
    },
    "id": "N0jLQgmnEq6e"
   },
   "outputs": [],
   "source": [
    "# Separar features e rótulos\n",
    "X = df_pd.drop(\"class\",axis=1)\n",
    "y = df_pd[\"class\"]\n",
    "\n",
    "# Aplicar SMOTE no conjunto de treino para tratar desbalanceamento das classes\n",
    "smote = SMOTE()\n",
    "X_smote, y_smote = smote.fit_resample(X, y)"
   ]
  },
  {
   "cell_type": "markdown",
   "metadata": {
    "application/vnd.databricks.v1+cell": {
     "cellMetadata": {},
     "inputWidgets": {},
     "nuid": "64dbb909-8287-47e7-b4aa-11e07b72454e",
     "showTitle": false,
     "tableResultSettingsMap": {},
     "title": ""
    }
   },
   "source": [
    "\n",
    "#### Salvando em parquet o arquivo balanceado"
   ]
  },
  {
   "cell_type": "code",
   "execution_count": 0,
   "metadata": {
    "application/vnd.databricks.v1+cell": {
     "cellMetadata": {
      "byteLimit": 2048000,
      "rowLimit": 10000
     },
     "inputWidgets": {},
     "nuid": "521176d1-0f1a-4623-815f-aec6f5502dbb",
     "showTitle": false,
     "tableResultSettingsMap": {},
     "title": ""
    }
   },
   "outputs": [
    {
     "output_type": "stream",
     "name": "stdout",
     "output_type": "stream",
     "text": [
      "dbfs:/FileStore/classification/astronomical_objects/silver/balanceado/objetos_estelares_balanceado\n"
     ]
    }
   ],
   "source": [
    "# Etapa 4: Juntar os dados balanceados\n",
    "df_smote = pd.concat([X_smote, y_smote], axis=1)\n",
    "\n",
    "# Converter para pandas e salvar localmente (sem Spark)\n",
    "caminho_completo_balanceado = pasta_silver + \"/\" + arquivo_balanceado\n",
    "print(caminho_completo_balanceado)\n",
    "\n",
    "# salvar em parquet \n",
    "spark.createDataFrame(df_smote)\\\n",
    "        .coalesce(1)\\\n",
    "        .write.mode(\"overwrite\").parquet(caminho_completo_balanceado)\n"
   ]
  },
  {
   "cell_type": "code",
   "execution_count": 0,
   "metadata": {
    "application/vnd.databricks.v1+cell": {
     "cellMetadata": {
      "byteLimit": 2048000,
      "rowLimit": 10000
     },
     "inputWidgets": {},
     "nuid": "a1cc808c-6ce0-4dd8-b74d-99d63f98e8d6",
     "showTitle": false,
     "tableResultSettingsMap": {},
     "title": ""
    },
    "colab": {
     "base_uri": "https://localhost:8080/",
     "height": 1000
    },
    "id": "r8X2xP1uFPGT",
    "outputId": "6b10921a-ff7d-4883-fd13-d8d27e186b14"
   },
   "outputs": [
    {
     "output_type": "stream",
     "name": "stdout",
     "output_type": "stream",
     "text": [
      "Distribuição após SMOTE:\n Counter({'GALAXY': 586087, 'QSO': 586087, 'STAR': 586087})\n\n\n"
     ]
    },
    {
     "output_type": "display_data",
     "data": {
      "image/png": "[encoded data removed]",
      "text/plain": [
       "<Figure size 1000x400 with 1 Axes>"
      ]
     },
     "metadata": {},
     "output_type": "display_data"
    }
   ],
   "source": [
    "# Ver distribuição das classes codificadas\n",
    "print(\"Distribuição após SMOTE:\\n\", Counter(y_smote))\n",
    "print(\"\\n\")\n",
    "\n",
    "# Plot codificado\n",
    "plt.figure(figsize=(10, 4))\n",
    "sns.countplot(x=y_smote) # seaborn\n",
    "plt.title(\"Distribuição das classes\")\n",
    "plt.xlabel(\"Classe\")\n",
    "plt.ylabel(\"Contagem\")\n",
    "plt.show()"
   ]
  },
  {
   "cell_type": "code",
   "execution_count": 0,
   "metadata": {
    "application/vnd.databricks.v1+cell": {
     "cellMetadata": {
      "byteLimit": 2048000,
      "rowLimit": 10000
     },
     "inputWidgets": {},
     "nuid": "09248c9c-06a8-4662-9c2b-21f6639c8ea1",
     "showTitle": false,
     "tableResultSettingsMap": {},
     "title": ""
    }
   },
   "outputs": [
    {
     "output_type": "execute_result",
     "data": {
      "text/plain": [
       "redshift    999949\n",
       "r_i         999949\n",
       "g_r         999949\n",
       "u_g         999949\n",
       "i_z         999949\n",
       "g           999949\n",
       "class       999949\n",
       "dtype: int64"
      ]
     },
     "execution_count": 29,
     "metadata": {},
     "output_type": "execute_result"
    }
   ],
   "source": [
    "# Contagem do df original antes do balanceamento\n",
    "df_pd.count()"
   ]
  },
  {
   "cell_type": "code",
   "execution_count": 0,
   "metadata": {
    "application/vnd.databricks.v1+cell": {
     "cellMetadata": {
      "byteLimit": 2048000,
      "rowLimit": 10000
     },
     "inputWidgets": {},
     "nuid": "d461eab5-cc58-4810-8449-0ee763500059",
     "showTitle": false,
     "tableResultSettingsMap": {},
     "title": ""
    }
   },
   "outputs": [
    {
     "output_type": "execute_result",
     "data": {
      "text/plain": [
       "redshift    1758261\n",
       "r_i         1758261\n",
       "g_r         1758261\n",
       "u_g         1758261\n",
       "i_z         1758261\n",
       "g           1758261\n",
       "class       1758261\n",
       "dtype: int64"
      ]
     },
     "execution_count": 30,
     "metadata": {},
     "output_type": "execute_result"
    }
   ],
   "source": [
    "# Contagem do df após o balanceamento\n",
    "df_smote.count()"
   ]
  }
 ],
 "metadata": {
  "accelerator": "GPU",
  "application/vnd.databricks.v1+notebook": {
   "computePreferences": null,
   "dashboards": [],
   "environmentMetadata": null,
   "inputWidgetPreferences": null,
   "language": "python",
   "notebookMetadata": {
    "pythonIndentUnit": 4
   },
   "notebookName": "tcc_01_tratamento_ObjetosAstronomicos",
   "widgets": {}
  },
  "colab": {
   "gpuType": "T4",
   "provenance": []
  },
  "kernelspec": {
   "display_name": "Python 3 (ipykernel)",
   "language": "python",
   "name": "python3"
  },
  "language_info": {
   "name": "python"
  }
 },
 "nbformat": 4,
 "nbformat_minor": 0
}